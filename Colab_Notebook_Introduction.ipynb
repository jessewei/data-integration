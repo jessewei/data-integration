{
  "nbformat": 4,
  "nbformat_minor": 0,
  "metadata": {
    "colab": {
      "name": "Colab Notebook Introduction.ipynb",
      "version": "0.3.2",
      "provenance": [],
      "collapsed_sections": []
    },
    "kernelspec": {
      "name": "python3",
      "display_name": "Python 3"
    },
    "accelerator": "GPU"
  },
  "cells": [
    {
      "cell_type": "markdown",
      "metadata": {
        "id": "view-in-github",
        "colab_type": "text"
      },
      "source": [
        "[View in Colaboratory](https://colab.research.google.com/github/jessewei/data-integration/blob/master/Colab_Notebook_Introduction.ipynb)"
      ]
    },
    {
      "metadata": {
        "id": "ZnM669BOjtLQ",
        "colab_type": "text"
      },
      "cell_type": "markdown",
      "source": [
        "# Notebook Functionality\n",
        "\n",
        "Like an improved(?) Jupyter Notebook.\n",
        "\n",
        "1. Text Cells with [Markdown](https://github.com/adam-p/markdown-here/wiki/Markdown-Cheatsheet) formatting\n",
        "2. Code Cells\n",
        "3. Notebook stores code, output, and execution order\n",
        "4. Tab and Tab + Tab Autocomplete\n",
        "5. IPython Help Features\n",
        "6. IPython Magics (`%%`)\n",
        "\n",
        "## Additional Features\n",
        "\n",
        "- collaborative editing\n",
        "- history \n",
        "- executed code history\n",
        "- Shift+click multiple cell selection\n",
        "- searchable code snipetts + table of contents\n",
        "- scratchpad (⌘/Ctrl + Alt + N)\n",
        "- Stack Overflow button\n",
        "\n",
        "## Keyboard Shortcuts\n",
        "| Command | Action |\n",
        "| ---- | ----: |\n",
        "|⌘/Ctrl+Enter | Run Selected Cell |\n",
        "|Shift+Enter| Run Cell and Select Next |\n",
        "|Alt+Enter| Run cell and insert new cell|\n",
        "|⌘/Ctrl+M I | Interrupt Execution |\n",
        "\n",
        "## Command Palette\n",
        "\n",
        "![](http://hopelessoptimism.com/static/images/screenshots/colab/command_palette.png)"
      ]
    },
    {
      "metadata": {
        "id": "NINUt625hlSU",
        "colab_type": "text"
      },
      "cell_type": "markdown",
      "source": [
        "# How to...\n",
        "\n",
        "## Create a new notebook\n",
        "\n",
        "### With Python 2\n",
        "\n",
        "![](http://hopelessoptimism.com/static/images/screenshots/colab/python2_colab.png)\n",
        "\n",
        "### With Python 3\n",
        "\n",
        "![](http://hopelessoptimism.com/static/images/screenshots/colab/python3_colab.png)\n",
        "\n",
        "### with GPU Support\n",
        "![](http://hopelessoptimism.com/static/images/screenshots/colab/gpu_colab.png)\n",
        "![](http://hopelessoptimism.com/static/images/screenshots/colab/gpu2_colab.png)"
      ]
    },
    {
      "metadata": {
        "id": "YjEsEG1_kwo4",
        "colab_type": "text"
      },
      "cell_type": "markdown",
      "source": [
        "## Import existing code/notebooks"
      ]
    },
    {
      "metadata": {
        "id": "7B7pELGYk_dy",
        "colab_type": "text"
      },
      "cell_type": "markdown",
      "source": [
        "## Installing Libraries"
      ]
    },
    {
      "metadata": {
        "id": "7lv_q22MlCJs",
        "colab_type": "code",
        "colab": {
          "base_uri": "https://localhost:8080/",
          "height": 34
        },
        "outputId": "6bc6425b-c39b-46b2-9687-fd3f1c732b9c"
      },
      "cell_type": "code",
      "source": [
        "# https://keras.io/\n",
        "!pip install -q keras\n",
        "import keras"
      ],
      "execution_count": 0,
      "outputs": [
        {
          "output_type": "stream",
          "text": [
            "Using TensorFlow backend.\n"
          ],
          "name": "stderr"
        }
      ]
    },
    {
      "metadata": {
        "id": "UhwI5UF2ktPi",
        "colab_type": "text"
      },
      "cell_type": "markdown",
      "source": [
        "## Getting Help\n",
        "- `??` (+ IPython Magics)\n",
        "- tutorial notebooks\n",
        "- stack overflow\n",
        "- built in snippets + help"
      ]
    },
    {
      "metadata": {
        "id": "91692NJCo8-f",
        "colab_type": "code",
        "colab": {}
      },
      "cell_type": "code",
      "source": [
        "import pandas as pd"
      ],
      "execution_count": 0,
      "outputs": []
    },
    {
      "metadata": {
        "id": "Beeq0AbCpJwD",
        "colab_type": "code",
        "colab": {}
      },
      "cell_type": "code",
      "source": [
        "# show method signature and documentation\n",
        "\n",
        "pd.DataFrame?"
      ],
      "execution_count": 0,
      "outputs": []
    },
    {
      "metadata": {
        "id": "p39cq2F-pC5X",
        "colab_type": "code",
        "colab": {}
      },
      "cell_type": "code",
      "source": [
        "# show method source\n",
        "\n",
        "??pd.DataFrame"
      ],
      "execution_count": 0,
      "outputs": []
    },
    {
      "metadata": {
        "id": "FPM7NPhMnUsz",
        "colab_type": "text"
      },
      "cell_type": "markdown",
      "source": [
        "# Running your First Network"
      ]
    },
    {
      "metadata": {
        "id": "KacMenNaOruB",
        "colab_type": "code",
        "colab": {}
      },
      "cell_type": "code",
      "source": [
        "from keras.layers import Input, Dense\n",
        "from keras.models import Model\n",
        "\n",
        "# This returns a tensor\n",
        "inputs = Input(shape=(784,))\n"
      ],
      "execution_count": 0,
      "outputs": []
    },
    {
      "metadata": {
        "id": "CfsukstvOtKU",
        "colab_type": "code",
        "colab": {
          "base_uri": "https://localhost:8080/",
          "height": 51
        },
        "outputId": "be95ef1b-7b87-4024-c466-a0be63a8a2d1"
      },
      "cell_type": "code",
      "source": [
        "print(inputs)\n",
        "print(' ')"
      ],
      "execution_count": 0,
      "outputs": [
        {
          "output_type": "stream",
          "text": [
            "Tensor(\"input_3:0\", shape=(?, 784), dtype=float32)\n",
            " \n"
          ],
          "name": "stdout"
        }
      ]
    },
    {
      "metadata": {
        "id": "BuQwbqb2Ou0n",
        "colab_type": "code",
        "colab": {
          "base_uri": "https://localhost:8080/",
          "height": 34
        },
        "outputId": "248250bc-822e-4bab-d3d9-a67e78b7eb82"
      },
      "cell_type": "code",
      "source": [
        "layer = Dense(64, activation='relu')\n",
        "print(' ')"
      ],
      "execution_count": 0,
      "outputs": [
        {
          "output_type": "stream",
          "text": [
            " \n"
          ],
          "name": "stdout"
        }
      ]
    },
    {
      "metadata": {
        "id": "IJqs5muQPH2z",
        "colab_type": "code",
        "colab": {
          "base_uri": "https://localhost:8080/",
          "height": 51
        },
        "outputId": "6448e05b-1eb3-4b0b-9c20-bf7deb923f06"
      },
      "cell_type": "code",
      "source": [
        "x = layer(inputs)\n",
        "\n",
        "print(x)\n",
        "print(' ')"
      ],
      "execution_count": 0,
      "outputs": [
        {
          "output_type": "stream",
          "text": [
            "Tensor(\"dense_7_3/Relu:0\", shape=(?, 64), dtype=float32)\n",
            " \n"
          ],
          "name": "stdout"
        }
      ]
    },
    {
      "metadata": {
        "id": "G86wHpBSwItY",
        "colab_type": "code",
        "colab": {}
      },
      "cell_type": "code",
      "source": [
        "'''Trains a simple convnet on the MNIST dataset.\n",
        "Gets to 99.25% test accuracy after 12 epochs\n",
        "(there is still a lot of margin for parameter tuning).\n",
        "16 seconds per epoch on a GRID K520 GPU.\n",
        "'''\n",
        "\n",
        "from __future__ import print_function\n",
        "import keras\n",
        "from keras.datasets import mnist\n",
        "from keras.models import Sequential\n",
        "from keras.layers import Dense, Dropout, Flatten\n",
        "from keras.layers import Conv2D, MaxPooling2D\n",
        "from keras import backend as K\n"
      ],
      "execution_count": 0,
      "outputs": []
    },
    {
      "metadata": {
        "id": "5lYh4vZIQHN8",
        "colab_type": "code",
        "colab": {}
      },
      "cell_type": "code",
      "source": [
        "import keras\n",
        "from keras.models import Sequential\n",
        "from keras.layers import Dense, Dropout, Activation\n",
        "from keras.optimizers import SGD\n",
        "\n",
        "# Generate dummy data\n",
        "import numpy as np\n",
        "x_train = np.random.random((1000, 20))\n",
        "y_train = keras.utils.to_categorical(np.random.randint(10, size=(1000, 1)), num_classes=10)\n",
        "x_test = np.random.random((100, 20))\n",
        "y_test = keras.utils.to_categorical(np.random.randint(10, size=(100, 1)), num_classes=10)\n"
      ],
      "execution_count": 0,
      "outputs": []
    },
    {
      "metadata": {
        "id": "osRdleJZQUQq",
        "colab_type": "code",
        "colab": {
          "base_uri": "https://localhost:8080/",
          "height": 137
        },
        "outputId": "0bdcc17f-5649-411c-c9e2-accc7dcff26d"
      },
      "cell_type": "code",
      "source": [
        "y_train"
      ],
      "execution_count": 0,
      "outputs": [
        {
          "output_type": "execute_result",
          "data": {
            "text/plain": [
              "array([[0., 0., 0., ..., 0., 1., 0.],\n",
              "       [1., 0., 0., ..., 0., 0., 0.],\n",
              "       [0., 0., 0., ..., 0., 0., 0.],\n",
              "       ...,\n",
              "       [0., 0., 0., ..., 0., 1., 0.],\n",
              "       [0., 0., 0., ..., 0., 0., 0.],\n",
              "       [0., 1., 0., ..., 0., 0., 0.]])"
            ]
          },
          "metadata": {
            "tags": []
          },
          "execution_count": 36
        }
      ]
    },
    {
      "metadata": {
        "id": "GQusW64LQIVZ",
        "colab_type": "code",
        "colab": {
          "base_uri": "https://localhost:8080/",
          "height": 240
        },
        "outputId": "d2fd4239-41cb-4cba-e4ca-accad6692aaa"
      },
      "cell_type": "code",
      "source": [
        "x_train"
      ],
      "execution_count": 0,
      "outputs": [
        {
          "output_type": "execute_result",
          "data": {
            "text/plain": [
              "array([[0.14521926, 0.91954634, 0.04472922, ..., 0.40739888, 0.80800318,\n",
              "        0.63560801],\n",
              "       [0.55136025, 0.53602939, 0.30710589, ..., 0.18645107, 0.92911576,\n",
              "        0.37086158],\n",
              "       [0.34834615, 0.74986819, 0.27974187, ..., 0.74839222, 0.66662491,\n",
              "        0.61150642],\n",
              "       ...,\n",
              "       [0.27381187, 0.07577917, 0.09821743, ..., 0.62359175, 0.95171429,\n",
              "        0.8204232 ],\n",
              "       [0.70034861, 0.82853168, 0.83870522, ..., 0.41366793, 0.72248952,\n",
              "        0.92379898],\n",
              "       [0.13853576, 0.89885876, 0.35824904, ..., 0.35132361, 0.3532724 ,\n",
              "        0.69383763]])"
            ]
          },
          "metadata": {
            "tags": []
          },
          "execution_count": 35
        }
      ]
    },
    {
      "metadata": {
        "id": "EXnRZ1UtNwgC",
        "colab_type": "code",
        "colab": {}
      },
      "cell_type": "code",
      "source": [
        "\n",
        "model = Sequential()\n",
        "# Dense(64) is a fully-connected layer with 64 hidden units.\n",
        "# in the first layer, you must specify the expected input data shape:\n",
        "# here, 20-dimensional vectors.\n",
        "model.add(Dense(64, activation='relu', input_dim=20))\n",
        "# 20 -> 64\n",
        "model.add(Dropout(0.5))\n",
        "model.add(Dense(64, activation='relu'))\n",
        "# 64 -> 64\n",
        "model.add(Dropout(0.5))\n",
        "model.add(Dense(10, activation='softmax'))\n",
        "# 64 -> 10"
      ],
      "execution_count": 0,
      "outputs": []
    },
    {
      "metadata": {
        "id": "FK0R9C0lSNTH",
        "colab_type": "code",
        "colab": {}
      },
      "cell_type": "code",
      "source": [
        "sgd = SGD(lr=0.01, decay=1e-6, momentum=0.9, nesterov=True)\n",
        "\n",
        "model.compile(loss='categorical_crossentropy',\n",
        "              optimizer=sgd,\n",
        "              metrics=['accuracy'])"
      ],
      "execution_count": 0,
      "outputs": []
    },
    {
      "metadata": {
        "id": "FiTagW1gRxSv",
        "colab_type": "code",
        "colab": {
          "base_uri": "https://localhost:8080/",
          "height": 308
        },
        "outputId": "e8d425a9-0700-4c13-8835-f96ecec999d9"
      },
      "cell_type": "code",
      "source": [
        "model.summary()"
      ],
      "execution_count": 0,
      "outputs": [
        {
          "output_type": "stream",
          "text": [
            "_________________________________________________________________\n",
            "Layer (type)                 Output Shape              Param #   \n",
            "=================================================================\n",
            "dense_8 (Dense)              (None, 64)                1344      \n",
            "_________________________________________________________________\n",
            "dropout_1 (Dropout)          (None, 64)                0         \n",
            "_________________________________________________________________\n",
            "dense_9 (Dense)              (None, 64)                4160      \n",
            "_________________________________________________________________\n",
            "dropout_2 (Dropout)          (None, 64)                0         \n",
            "_________________________________________________________________\n",
            "dense_10 (Dense)             (None, 10)                650       \n",
            "=================================================================\n",
            "Total params: 6,154\n",
            "Trainable params: 6,154\n",
            "Non-trainable params: 0\n",
            "_________________________________________________________________\n"
          ],
          "name": "stdout"
        }
      ]
    },
    {
      "metadata": {
        "id": "_79ZRjFEQnRH",
        "colab_type": "code",
        "colab": {
          "base_uri": "https://localhost:8080/",
          "height": 720
        },
        "outputId": "6600d1fe-cc4d-4afb-bce3-bdb490fe8db1"
      },
      "cell_type": "code",
      "source": [
        "model.fit(x_train, y_train,\n",
        "          epochs=20,\n",
        "          batch_size=128)\n",
        "\n"
      ],
      "execution_count": 0,
      "outputs": [
        {
          "output_type": "stream",
          "text": [
            "Epoch 1/20\n",
            "1000/1000 [==============================] - 0s 148us/step - loss: 2.3101 - acc: 0.0970\n",
            "Epoch 2/20\n",
            "1000/1000 [==============================] - 0s 36us/step - loss: 2.3083 - acc: 0.1020\n",
            "Epoch 3/20\n",
            "1000/1000 [==============================] - 0s 41us/step - loss: 2.3126 - acc: 0.1000\n",
            "Epoch 4/20\n",
            "1000/1000 [==============================] - 0s 33us/step - loss: 2.3147 - acc: 0.0950\n",
            "Epoch 5/20\n",
            "1000/1000 [==============================] - 0s 31us/step - loss: 2.3042 - acc: 0.1050\n",
            "Epoch 6/20\n",
            "1000/1000 [==============================] - 0s 35us/step - loss: 2.2999 - acc: 0.1090\n",
            "Epoch 7/20\n",
            "1000/1000 [==============================] - 0s 32us/step - loss: 2.3041 - acc: 0.0980\n",
            "Epoch 8/20\n",
            "1000/1000 [==============================] - 0s 32us/step - loss: 2.3078 - acc: 0.1100\n",
            "Epoch 9/20\n",
            "1000/1000 [==============================] - 0s 33us/step - loss: 2.2966 - acc: 0.1300\n",
            "Epoch 10/20\n",
            "1000/1000 [==============================] - 0s 38us/step - loss: 2.3016 - acc: 0.1140\n",
            "Epoch 11/20\n",
            "1000/1000 [==============================] - 0s 36us/step - loss: 2.2994 - acc: 0.1000\n",
            "Epoch 12/20\n",
            "1000/1000 [==============================] - 0s 37us/step - loss: 2.3020 - acc: 0.1200\n",
            "Epoch 13/20\n",
            "1000/1000 [==============================] - 0s 40us/step - loss: 2.3053 - acc: 0.0940\n",
            "Epoch 14/20\n",
            "1000/1000 [==============================] - 0s 33us/step - loss: 2.2995 - acc: 0.1080\n",
            "Epoch 15/20\n",
            "1000/1000 [==============================] - 0s 38us/step - loss: 2.3003 - acc: 0.1130\n",
            "Epoch 16/20\n",
            "1000/1000 [==============================] - 0s 39us/step - loss: 2.3007 - acc: 0.1060\n",
            "Epoch 17/20\n",
            "1000/1000 [==============================] - 0s 35us/step - loss: 2.2982 - acc: 0.1100\n",
            "Epoch 18/20\n",
            "1000/1000 [==============================] - 0s 35us/step - loss: 2.2947 - acc: 0.1250\n",
            "Epoch 19/20\n",
            "1000/1000 [==============================] - 0s 41us/step - loss: 2.2937 - acc: 0.1120\n",
            "Epoch 20/20\n",
            "1000/1000 [==============================] - 0s 33us/step - loss: 2.2965 - acc: 0.1120\n"
          ],
          "name": "stdout"
        },
        {
          "output_type": "execute_result",
          "data": {
            "text/plain": [
              "<keras.callbacks.History at 0x7fd0dd89a320>"
            ]
          },
          "metadata": {
            "tags": []
          },
          "execution_count": 40
        }
      ]
    },
    {
      "metadata": {
        "id": "WhV1u_PVQD_Q",
        "colab_type": "code",
        "colab": {
          "base_uri": "https://localhost:8080/",
          "height": 34
        },
        "outputId": "9beaaf7c-c502-4c54-eacb-886479ebc485"
      },
      "cell_type": "code",
      "source": [
        "score = model.evaluate(x_test, y_test, batch_size=128)"
      ],
      "execution_count": 0,
      "outputs": [
        {
          "output_type": "stream",
          "text": [
            "\r100/100 [==============================] - 0s 376us/step\n"
          ],
          "name": "stdout"
        }
      ]
    },
    {
      "metadata": {
        "id": "D21AFTVUTdbx",
        "colab_type": "code",
        "colab": {
          "base_uri": "https://localhost:8080/",
          "height": 51
        },
        "outputId": "ead2901b-ab5a-47e2-d47e-86bea0063ca2"
      },
      "cell_type": "code",
      "source": [
        "print(score)\n",
        "print(' ')"
      ],
      "execution_count": 0,
      "outputs": [
        {
          "output_type": "stream",
          "text": [
            "[2.30511474609375, 0.1599999964237213]\n",
            " \n"
          ],
          "name": "stdout"
        }
      ]
    },
    {
      "metadata": {
        "id": "twQa5EUFwUP0",
        "colab_type": "code",
        "colab": {
          "base_uri": "https://localhost:8080/",
          "height": 103
        },
        "outputId": "8adfaa05-daf4-4588-ce6c-18b484c2fa3d"
      },
      "cell_type": "code",
      "source": [
        "batch_size = 128\n",
        "num_classes = 10\n",
        "epochs = 12\n",
        "\n",
        "# input image dimensions\n",
        "img_rows, img_cols = 28, 28\n",
        "\n",
        "# the data, shuffled and split between train and test sets\n",
        "(x_train, y_train), (x_test, y_test) = mnist.load_data()\n",
        "\n",
        "if K.image_data_format() == 'channels_first':\n",
        "    x_train = x_train.reshape(x_train.shape[0], 1, img_rows, img_cols)\n",
        "    x_test = x_test.reshape(x_test.shape[0], 1, img_rows, img_cols)\n",
        "    input_shape = (1, img_rows, img_cols)\n",
        "else:\n",
        "    x_train = x_train.reshape(x_train.shape[0], img_rows, img_cols, 1)\n",
        "    x_test = x_test.reshape(x_test.shape[0], img_rows, img_cols, 1)\n",
        "    input_shape = (img_rows, img_cols, 1)\n",
        "\n",
        "# only train on the first 1000 examples\n",
        "x_train, y_train = x_train[:1000], y_train[:1000]\n",
        "\n",
        "# only test on the first 100 examples\n",
        "x_test, y_test = x_test[:100], y_test[:100]\n",
        "\n",
        "x_train = x_train.astype('float32')\n",
        "x_test = x_test.astype('float32')\n",
        "x_train /= 255\n",
        "x_test /= 255\n",
        "print('x_train shape:', x_train.shape)\n",
        "print(x_train.shape[0], 'train samples')\n",
        "print(x_test.shape[0], 'test samples')\n",
        "\n",
        "# convert class vectors to binary class matrices\n",
        "y_train = keras.utils.to_categorical(y_train, num_classes)\n",
        "y_test = keras.utils.to_categorical(y_test, num_classes)\n",
        "\n",
        "model = Sequential()\n",
        "model.add(Conv2D(32, kernel_size=(3, 3),\n",
        "                 activation='relu',\n",
        "                 input_shape=input_shape))\n",
        "model.add(Conv2D(64, (3, 3), activation='relu'))\n",
        "model.add(MaxPooling2D(pool_size=(2, 2)))\n",
        "model.add(Dropout(0.25))\n",
        "model.add(Flatten())\n",
        "model.add(Dense(128, activation='relu'))\n",
        "model.add(Dropout(0.5))\n",
        "model.add(Dense(num_classes, activation='softmax'))\n",
        "\n",
        "model.compile(loss=keras.losses.categorical_crossentropy,\n",
        "              optimizer=keras.optimizers.Adadelta(),\n",
        "              metrics=['accuracy'])"
      ],
      "execution_count": 0,
      "outputs": [
        {
          "output_type": "stream",
          "text": [
            "Downloading data from https://s3.amazonaws.com/img-datasets/mnist.npz\n",
            "11493376/11490434 [==============================] - 3s 0us/step\n",
            "x_train shape: (1000, 28, 28, 1)\n",
            "1000 train samples\n",
            "100 test samples\n"
          ],
          "name": "stdout"
        }
      ]
    },
    {
      "metadata": {
        "id": "1PTA5We5nttD",
        "colab_type": "code",
        "colab": {
          "base_uri": "https://localhost:8080/",
          "height": 534
        },
        "outputId": "d16c463a-ed82-42dc-8fce-d320beb28634"
      },
      "cell_type": "code",
      "source": [
        "%%time\n",
        "\n",
        "model.fit(x_train, y_train,\n",
        "          batch_size=batch_size,\n",
        "          epochs=epochs,\n",
        "          verbose=1,\n",
        "          validation_data=(x_test, y_test))\n",
        "\n",
        "score = model.evaluate(x_test, y_test, verbose=0)"
      ],
      "execution_count": 0,
      "outputs": [
        {
          "output_type": "stream",
          "text": [
            "Train on 1000 samples, validate on 100 samples\n",
            "Epoch 1/12\n",
            "1000/1000 [==============================] - 1s 1ms/step - loss: 2.0551 - acc: 0.2770 - val_loss: 1.3394 - val_acc: 0.6400\n",
            "Epoch 2/12\n",
            "1000/1000 [==============================] - 0s 193us/step - loss: 1.3215 - acc: 0.5760 - val_loss: 0.9486 - val_acc: 0.7900\n",
            "Epoch 3/12\n",
            "1000/1000 [==============================] - 0s 186us/step - loss: 0.8078 - acc: 0.7550 - val_loss: 0.6038 - val_acc: 0.7800\n",
            "Epoch 4/12\n",
            "1000/1000 [==============================] - 0s 181us/step - loss: 0.6017 - acc: 0.8130 - val_loss: 0.4429 - val_acc: 0.8300\n",
            "Epoch 5/12\n",
            "1000/1000 [==============================] - 0s 186us/step - loss: 0.4799 - acc: 0.8580 - val_loss: 0.3497 - val_acc: 0.8900\n",
            "Epoch 6/12\n",
            "1000/1000 [==============================] - 0s 189us/step - loss: 0.3487 - acc: 0.8970 - val_loss: 0.3059 - val_acc: 0.8800\n",
            "Epoch 7/12\n",
            "1000/1000 [==============================] - 0s 190us/step - loss: 0.3508 - acc: 0.8930 - val_loss: 0.1964 - val_acc: 0.9400\n",
            "Epoch 8/12\n",
            "1000/1000 [==============================] - 0s 197us/step - loss: 0.2741 - acc: 0.9250 - val_loss: 0.1814 - val_acc: 0.9700\n",
            "Epoch 9/12\n",
            "1000/1000 [==============================] - 0s 192us/step - loss: 0.2238 - acc: 0.9240 - val_loss: 0.1502 - val_acc: 0.9700\n",
            "Epoch 10/12\n",
            "1000/1000 [==============================] - 0s 187us/step - loss: 0.2043 - acc: 0.9390 - val_loss: 0.1117 - val_acc: 0.9800\n",
            "Epoch 11/12\n",
            "1000/1000 [==============================] - 0s 191us/step - loss: 0.1560 - acc: 0.9530 - val_loss: 0.1254 - val_acc: 0.9600\n",
            "Epoch 12/12\n",
            "1000/1000 [==============================] - 0s 188us/step - loss: 0.1453 - acc: 0.9540 - val_loss: 0.1106 - val_acc: 0.9500\n",
            "Test loss: 0.1105849027633667\n",
            "Test accuracy: 0.95\n",
            "CPU times: user 3.09 s, sys: 549 ms, total: 3.64 s\n",
            "Wall time: 3.84 s\n"
          ],
          "name": "stdout"
        }
      ]
    },
    {
      "metadata": {
        "id": "r0vRfyx6UDVf",
        "colab_type": "code",
        "colab": {
          "base_uri": "https://localhost:8080/",
          "height": 85
        },
        "outputId": "5a882088-cd34-4e3d-eb26-398cf69ce76e"
      },
      "cell_type": "code",
      "source": [
        "print('Test loss:', score[0])\n",
        "print('Test accuracy:', score[1])\n",
        "print(' ')\n",
        "print(' ')"
      ],
      "execution_count": 0,
      "outputs": [
        {
          "output_type": "stream",
          "text": [
            "Test loss: 0.1105849027633667\n",
            "Test accuracy: 0.95\n",
            " \n",
            " \n"
          ],
          "name": "stdout"
        }
      ]
    },
    {
      "metadata": {
        "id": "mQ4YNQlJNm9y",
        "colab_type": "code",
        "colab": {
          "base_uri": "https://localhost:8080/",
          "height": 233
        },
        "outputId": "ce935836-3d1f-4257-e1b5-c645d572202b"
      },
      "cell_type": "code",
      "source": [
        "from keras.models import Sequential\n",
        "from keras.layers import Dense, Dropout\n",
        "from keras.layers import Embedding\n",
        "from keras.layers import LSTM\n",
        "\n",
        "model = Sequential()\n",
        "model.add(Embedding(max_features, output_dim=256))\n",
        "model.add(LSTM(128))\n",
        "model.add(Dropout(0.5))\n",
        "model.add(Dense(1, activation='sigmoid'))\n",
        "\n",
        "model.compile(loss='binary_crossentropy',\n",
        "              optimizer='rmsprop',\n",
        "              metrics=['accuracy'])\n",
        "\n",
        "model.fit(x_train, y_train, batch_size=16, epochs=10)\n",
        "score = model.evaluate(x_test, y_test, batch_size=16)"
      ],
      "execution_count": 0,
      "outputs": [
        {
          "output_type": "error",
          "ename": "NameError",
          "evalue": "ignored",
          "traceback": [
            "\u001b[0;31m---------------------------------------------------------------------------\u001b[0m",
            "\u001b[0;31mNameError\u001b[0m                                 Traceback (most recent call last)",
            "\u001b[0;32m<ipython-input-64-f1525d2d3db2>\u001b[0m in \u001b[0;36m<module>\u001b[0;34m()\u001b[0m\n\u001b[1;32m      5\u001b[0m \u001b[0;34m\u001b[0m\u001b[0m\n\u001b[1;32m      6\u001b[0m \u001b[0mmodel\u001b[0m \u001b[0;34m=\u001b[0m \u001b[0mSequential\u001b[0m\u001b[0;34m(\u001b[0m\u001b[0;34m)\u001b[0m\u001b[0;34m\u001b[0m\u001b[0m\n\u001b[0;32m----> 7\u001b[0;31m \u001b[0mmodel\u001b[0m\u001b[0;34m.\u001b[0m\u001b[0madd\u001b[0m\u001b[0;34m(\u001b[0m\u001b[0mEmbedding\u001b[0m\u001b[0;34m(\u001b[0m\u001b[0mmax_features\u001b[0m\u001b[0;34m,\u001b[0m \u001b[0moutput_dim\u001b[0m\u001b[0;34m=\u001b[0m\u001b[0;36m256\u001b[0m\u001b[0;34m)\u001b[0m\u001b[0;34m)\u001b[0m\u001b[0;34m\u001b[0m\u001b[0m\n\u001b[0m\u001b[1;32m      8\u001b[0m \u001b[0mmodel\u001b[0m\u001b[0;34m.\u001b[0m\u001b[0madd\u001b[0m\u001b[0;34m(\u001b[0m\u001b[0mLSTM\u001b[0m\u001b[0;34m(\u001b[0m\u001b[0;36m128\u001b[0m\u001b[0;34m)\u001b[0m\u001b[0;34m)\u001b[0m\u001b[0;34m\u001b[0m\u001b[0m\n\u001b[1;32m      9\u001b[0m \u001b[0mmodel\u001b[0m\u001b[0;34m.\u001b[0m\u001b[0madd\u001b[0m\u001b[0;34m(\u001b[0m\u001b[0mDropout\u001b[0m\u001b[0;34m(\u001b[0m\u001b[0;36m0.5\u001b[0m\u001b[0;34m)\u001b[0m\u001b[0;34m)\u001b[0m\u001b[0;34m\u001b[0m\u001b[0m\n",
            "\u001b[0;31mNameError\u001b[0m: name 'max_features' is not defined"
          ]
        }
      ]
    },
    {
      "metadata": {
        "id": "eGNBllEEVATD",
        "colab_type": "code",
        "colab": {}
      },
      "cell_type": "code",
      "source": [
        ""
      ],
      "execution_count": 0,
      "outputs": []
    },
    {
      "metadata": {
        "id": "d0Souo96Np9j",
        "colab_type": "code",
        "colab": {
          "base_uri": "https://localhost:8080/",
          "height": 253
        },
        "outputId": "d5c4495b-8af3-412f-fa1e-746b443158f2"
      },
      "cell_type": "code",
      "source": [
        "from keras.models import Sequential\n",
        "from keras.layers import Dense, Dropout\n",
        "from keras.layers import Embedding\n",
        "from keras.layers import Conv1D, GlobalAveragePooling1D, MaxPooling1D\n",
        "\n",
        "model = Sequential()\n",
        "model.add(Conv1D(64, 3, activation='relu', input_shape=100))\n",
        "model.add(Conv1D(64, 3, activation='relu'))\n",
        "model.add(MaxPooling1D(3))\n",
        "model.add(Conv1D(128, 3, activation='relu'))\n",
        "model.add(Conv1D(128, 3, activation='relu'))\n",
        "model.add(GlobalAveragePooling1D())\n",
        "model.add(Dropout(0.5))\n",
        "model.add(Dense(1, activation='sigmoid'))"
      ],
      "execution_count": 0,
      "outputs": [
        {
          "output_type": "error",
          "ename": "NameError",
          "evalue": "ignored",
          "traceback": [
            "\u001b[0;31m---------------------------------------------------------------------------\u001b[0m",
            "\u001b[0;31mNameError\u001b[0m                                 Traceback (most recent call last)",
            "\u001b[0;32m<ipython-input-65-78cc48bdac0d>\u001b[0m in \u001b[0;36m<module>\u001b[0;34m()\u001b[0m\n\u001b[1;32m      5\u001b[0m \u001b[0;34m\u001b[0m\u001b[0m\n\u001b[1;32m      6\u001b[0m \u001b[0mmodel\u001b[0m \u001b[0;34m=\u001b[0m \u001b[0mSequential\u001b[0m\u001b[0;34m(\u001b[0m\u001b[0;34m)\u001b[0m\u001b[0;34m\u001b[0m\u001b[0m\n\u001b[0;32m----> 7\u001b[0;31m \u001b[0mmodel\u001b[0m\u001b[0;34m.\u001b[0m\u001b[0madd\u001b[0m\u001b[0;34m(\u001b[0m\u001b[0mConv1D\u001b[0m\u001b[0;34m(\u001b[0m\u001b[0;36m64\u001b[0m\u001b[0;34m,\u001b[0m \u001b[0;36m3\u001b[0m\u001b[0;34m,\u001b[0m \u001b[0mactivation\u001b[0m\u001b[0;34m=\u001b[0m\u001b[0;34m'relu'\u001b[0m\u001b[0;34m,\u001b[0m \u001b[0minput_shape\u001b[0m\u001b[0;34m=\u001b[0m\u001b[0;34m(\u001b[0m\u001b[0mseq_length\u001b[0m\u001b[0;34m,\u001b[0m \u001b[0;36m100\u001b[0m\u001b[0;34m)\u001b[0m\u001b[0;34m)\u001b[0m\u001b[0;34m)\u001b[0m\u001b[0;34m\u001b[0m\u001b[0m\n\u001b[0m\u001b[1;32m      8\u001b[0m \u001b[0mmodel\u001b[0m\u001b[0;34m.\u001b[0m\u001b[0madd\u001b[0m\u001b[0;34m(\u001b[0m\u001b[0mConv1D\u001b[0m\u001b[0;34m(\u001b[0m\u001b[0;36m64\u001b[0m\u001b[0;34m,\u001b[0m \u001b[0;36m3\u001b[0m\u001b[0;34m,\u001b[0m \u001b[0mactivation\u001b[0m\u001b[0;34m=\u001b[0m\u001b[0;34m'relu'\u001b[0m\u001b[0;34m)\u001b[0m\u001b[0;34m)\u001b[0m\u001b[0;34m\u001b[0m\u001b[0m\n\u001b[1;32m      9\u001b[0m \u001b[0mmodel\u001b[0m\u001b[0;34m.\u001b[0m\u001b[0madd\u001b[0m\u001b[0;34m(\u001b[0m\u001b[0mMaxPooling1D\u001b[0m\u001b[0;34m(\u001b[0m\u001b[0;36m3\u001b[0m\u001b[0;34m)\u001b[0m\u001b[0;34m)\u001b[0m\u001b[0;34m\u001b[0m\u001b[0m\n",
            "\u001b[0;31mNameError\u001b[0m: name 'seq_length' is not defined"
          ]
        }
      ]
    },
    {
      "metadata": {
        "id": "S6K38pooYYXx",
        "colab_type": "code",
        "colab": {}
      },
      "cell_type": "code",
      "source": [
        "model.compile(loss='binary_crossentropy',\n",
        "              optimizer='rmsprop',\n",
        "              metrics=['accuracy'])\n",
        "\n",
        "model.fit(x_train, y_train, batch_size=16, epochs=10)\n",
        "score = model.evaluate(x_test, y_test, batch_size=16)"
      ],
      "execution_count": 0,
      "outputs": []
    },
    {
      "metadata": {
        "id": "cwY_M2YOm2ZU",
        "colab_type": "text"
      },
      "cell_type": "markdown",
      "source": [
        "## Checking Devices/Hardware\n",
        "\n",
        "* Limited to 10 hours of continuous runtime?\n",
        "* Memory limits?"
      ]
    },
    {
      "metadata": {
        "id": "CIR3Vv2Ku4x0",
        "colab_type": "code",
        "colab": {
          "base_uri": "https://localhost:8080/",
          "height": 215
        },
        "outputId": "b60f9316-8c42-4279-b5b3-e7f59fb2bec8"
      },
      "cell_type": "code",
      "source": [
        "import tensorflow as tf\n",
        "device_name = tf.test.gpu_device_name()\n",
        "if device_name != '/device:GPU:0':\n",
        "  raise SystemError('GPU device not found')\n",
        "print('Found GPU at: {}'.format(device_name))"
      ],
      "execution_count": 0,
      "outputs": [
        {
          "output_type": "error",
          "ename": "SystemError",
          "evalue": "ignored",
          "traceback": [
            "\u001b[0;31m---------------------------------------------------------------------------\u001b[0m",
            "\u001b[0;31mSystemError\u001b[0m                               Traceback (most recent call last)",
            "\u001b[0;32m<ipython-input-5-d1680108c58e>\u001b[0m in \u001b[0;36m<module>\u001b[0;34m()\u001b[0m\n\u001b[1;32m      2\u001b[0m \u001b[0mdevice_name\u001b[0m \u001b[0;34m=\u001b[0m \u001b[0mtf\u001b[0m\u001b[0;34m.\u001b[0m\u001b[0mtest\u001b[0m\u001b[0;34m.\u001b[0m\u001b[0mgpu_device_name\u001b[0m\u001b[0;34m(\u001b[0m\u001b[0;34m)\u001b[0m\u001b[0;34m\u001b[0m\u001b[0m\n\u001b[1;32m      3\u001b[0m \u001b[0;32mif\u001b[0m \u001b[0mdevice_name\u001b[0m \u001b[0;34m!=\u001b[0m \u001b[0;34m'/device:GPU:0'\u001b[0m\u001b[0;34m:\u001b[0m\u001b[0;34m\u001b[0m\u001b[0m\n\u001b[0;32m----> 4\u001b[0;31m   \u001b[0;32mraise\u001b[0m \u001b[0mSystemError\u001b[0m\u001b[0;34m(\u001b[0m\u001b[0;34m'GPU device not found'\u001b[0m\u001b[0;34m)\u001b[0m\u001b[0;34m\u001b[0m\u001b[0m\n\u001b[0m\u001b[1;32m      5\u001b[0m \u001b[0mprint\u001b[0m\u001b[0;34m(\u001b[0m\u001b[0;34m'Found GPU at: {}'\u001b[0m\u001b[0;34m.\u001b[0m\u001b[0mformat\u001b[0m\u001b[0;34m(\u001b[0m\u001b[0mdevice_name\u001b[0m\u001b[0;34m)\u001b[0m\u001b[0;34m)\u001b[0m\u001b[0;34m\u001b[0m\u001b[0m\n",
            "\u001b[0;31mSystemError\u001b[0m: GPU device not found"
          ]
        }
      ]
    },
    {
      "metadata": {
        "id": "OIGtSuW7m59A",
        "colab_type": "code",
        "colab": {}
      },
      "cell_type": "code",
      "source": [
        "import psutil\n",
        "import os"
      ],
      "execution_count": 0,
      "outputs": []
    },
    {
      "metadata": {
        "id": "blHWw8VQnAEr",
        "colab_type": "code",
        "colab": {
          "base_uri": "https://localhost:8080/",
          "height": 34
        },
        "outputId": "1fd27a24-6626-4d70-8716-70e784303ef6"
      },
      "cell_type": "code",
      "source": [
        "psutil.cpu_percent()"
      ],
      "execution_count": 0,
      "outputs": [
        {
          "output_type": "execute_result",
          "data": {
            "text/plain": [
              "2.7"
            ]
          },
          "metadata": {
            "tags": []
          },
          "execution_count": 53
        }
      ]
    },
    {
      "metadata": {
        "id": "W6SUoZOTnBDU",
        "colab_type": "code",
        "colab": {
          "base_uri": "https://localhost:8080/",
          "height": 54
        },
        "outputId": "98d247c9-db61-49ad-e4e4-7222f417653a"
      },
      "cell_type": "code",
      "source": [
        "values = psutil.virtual_memory()\n",
        "values"
      ],
      "execution_count": 0,
      "outputs": [
        {
          "output_type": "execute_result",
          "data": {
            "text/plain": [
              "svmem(total=13662167040, available=9911345152, percent=27.5, used=11091972096, free=2570194944, active=5469667328, inactive=4326985728, buffers=657301504, cached=6683848704, shared=369168384)"
            ]
          },
          "metadata": {
            "tags": []
          },
          "execution_count": 54
        }
      ]
    },
    {
      "metadata": {
        "id": "fKbt-VhkpqkD",
        "colab_type": "code",
        "colab": {
          "base_uri": "https://localhost:8080/",
          "height": 68
        },
        "outputId": "c662b82a-f77c-4f8e-9f5b-b63a773e1961"
      },
      "cell_type": "code",
      "source": [
        "print(\"Virtual Memory in MB: {}\".format(values.total >> 20))\n",
        "print(\"Virtual Memory in GB: {}\".format(values.total >> 30))\n",
        "print(\"Using {}% of total memory\".format(values.percent))"
      ],
      "execution_count": 0,
      "outputs": [
        {
          "output_type": "stream",
          "text": [
            "Virtual Memory in MB: 13029\n",
            "Virtual Memory in GB: 12\n",
            "Using 27.5% of total memory\n"
          ],
          "name": "stdout"
        }
      ]
    },
    {
      "metadata": {
        "id": "1zeEX8d7D3HF",
        "colab_type": "code",
        "colab": {
          "base_uri": "https://localhost:8080/",
          "height": 51
        },
        "outputId": "6fd79b8b-6f16-4720-9f2f-c8145cd4ef6e"
      },
      "cell_type": "code",
      "source": [
        "# get filesystem statistics of current directory\n",
        "statvfs = os.statvfs('.')\n",
        "\n",
        "print(\"There are {} GB of disk space in total\".format((statvfs.f_frsize * statvfs.f_blocks) >> 30))\n",
        "print(\"There are {} GB of disk space free\".format((statvfs.f_frsize * statvfs.f_bavail) >> 30))"
      ],
      "execution_count": 0,
      "outputs": [
        {
          "output_type": "stream",
          "text": [
            "There are 365 GB of disk space in total\n",
            "There are 358 GB of disk space free\n"
          ],
          "name": "stdout"
        }
      ]
    },
    {
      "metadata": {
        "id": "f19j_c26nfn9",
        "colab_type": "code",
        "colab": {
          "base_uri": "https://localhost:8080/",
          "height": 238
        },
        "outputId": "21b10a64-f8ea-497a-af89-265a625b7aba"
      },
      "cell_type": "code",
      "source": [
        "from tensorflow.python.client import device_lib\n",
        "\n",
        "device_lib.list_local_devices()"
      ],
      "execution_count": 0,
      "outputs": [
        {
          "output_type": "execute_result",
          "data": {
            "text/plain": [
              "[name: \"/device:CPU:0\"\n",
              " device_type: \"CPU\"\n",
              " memory_limit: 268435456\n",
              " locality {\n",
              " }\n",
              " incarnation: 6023683497922980489, name: \"/device:GPU:0\"\n",
              " device_type: \"GPU\"\n",
              " memory_limit: 263979008\n",
              " locality {\n",
              "   bus_id: 1\n",
              " }\n",
              " incarnation: 5854057392093976711\n",
              " physical_device_desc: \"device: 0, name: Tesla K80, pci bus id: 0000:00:04.0, compute capability: 3.7\"]"
            ]
          },
          "metadata": {
            "tags": []
          },
          "execution_count": 51
        }
      ]
    },
    {
      "metadata": {
        "id": "7kt8rd5DYB70",
        "colab_type": "code",
        "colab": {}
      },
      "cell_type": "code",
      "source": [
        "# https://pypi.python.org/pypi/pydot\n",
        "!apt-get -qq install -y graphviz && pip install -q pydot\n",
        "import pydot"
      ],
      "execution_count": 0,
      "outputs": []
    },
    {
      "metadata": {
        "id": "ytKJz97pYFn2",
        "colab_type": "code",
        "colab": {
          "base_uri": "https://localhost:8080/",
          "height": 1597
        },
        "outputId": "8c2a2860-71d5-4360-a9a4-4583e98979c4"
      },
      "cell_type": "code",
      "source": [
        "# To determine which version you're using:\n",
        "!pip show tensorflow\n",
        "\n",
        "# For the current version: \n",
        "!pip install --upgrade tensorflow\n",
        "\n",
        "# For a specific version:\n",
        "!pip install tensorflow==1.2\n",
        "\n",
        "# For the latest nightly build:\n",
        "!pip install tf-nightly"
      ],
      "execution_count": 0,
      "outputs": [
        {
          "output_type": "stream",
          "text": [
            "Name: tensorflow\r\n",
            "Version: 1.6.0rc1\r\n",
            "Summary: TensorFlow helps the tensors flow\r\n",
            "Home-page: https://www.tensorflow.org/\r\n",
            "Author: Google Inc.\r\n",
            "Author-email: opensource@google.com\r\n",
            "License: Apache 2.0\r\n",
            "Location: /usr/local/lib/python3.6/dist-packages\r\n",
            "Requires: gast, wheel, astor, six, tensorboard, grpcio, protobuf, absl-py, numpy, termcolor\n",
            "Requirement already up-to-date: tensorflow in /usr/local/lib/python3.6/dist-packages\n",
            "Collecting numpy>=1.13.3 (from tensorflow)\n",
            "  Downloading numpy-1.14.1-cp36-cp36m-manylinux1_x86_64.whl (12.2MB)\n",
            "\u001b[K    100% |████████████████████████████████| 12.2MB 108kB/s \n",
            "\u001b[?25hRequirement already up-to-date: gast>=0.2.0 in /usr/local/lib/python3.6/dist-packages (from tensorflow)\n",
            "Requirement already up-to-date: grpcio>=1.8.6 in /usr/local/lib/python3.6/dist-packages (from tensorflow)\n",
            "Requirement already up-to-date: six>=1.10.0 in /usr/local/lib/python3.6/dist-packages (from tensorflow)\n",
            "Requirement already up-to-date: termcolor>=1.1.0 in /usr/local/lib/python3.6/dist-packages (from tensorflow)\n",
            "Requirement already up-to-date: wheel>=0.26 in /usr/local/lib/python3.6/dist-packages (from tensorflow)\n",
            "Requirement already up-to-date: astor>=0.6.0 in /usr/local/lib/python3.6/dist-packages (from tensorflow)\n",
            "Requirement already up-to-date: protobuf>=3.4.0 in /usr/local/lib/python3.6/dist-packages (from tensorflow)\n",
            "Requirement already up-to-date: tensorboard<1.7.0,>=1.6.0 in /usr/local/lib/python3.6/dist-packages (from tensorflow)\n",
            "Requirement already up-to-date: absl-py>=0.1.6 in /usr/local/lib/python3.6/dist-packages (from tensorflow)\n",
            "Collecting setuptools (from protobuf>=3.4.0->tensorflow)\n",
            "  Downloading setuptools-38.5.1-py2.py3-none-any.whl (489kB)\n",
            "\u001b[K    100% |████████████████████████████████| 491kB 2.3MB/s \n",
            "\u001b[?25hRequirement already up-to-date: html5lib==0.9999999 in /usr/local/lib/python3.6/dist-packages (from tensorboard<1.7.0,>=1.6.0->tensorflow)\n",
            "Requirement already up-to-date: werkzeug>=0.11.10 in /usr/local/lib/python3.6/dist-packages (from tensorboard<1.7.0,>=1.6.0->tensorflow)\n",
            "Requirement already up-to-date: bleach==1.5.0 in /usr/local/lib/python3.6/dist-packages (from tensorboard<1.7.0,>=1.6.0->tensorflow)\n",
            "Requirement already up-to-date: markdown>=2.6.8 in /usr/local/lib/python3.6/dist-packages (from tensorboard<1.7.0,>=1.6.0->tensorflow)\n",
            "Installing collected packages: numpy, setuptools\n",
            "  Found existing installation: numpy 1.14.0\n",
            "    Uninstalling numpy-1.14.0:\n",
            "      Successfully uninstalled numpy-1.14.0\n",
            "  Found existing installation: setuptools 36.2.7\n",
            "    Not uninstalling setuptools at /usr/lib/python3/dist-packages, outside environment /usr\n",
            "Successfully installed numpy-1.14.1 setuptools-38.5.1\n",
            "Collecting tensorflow==1.2\n",
            "  Downloading tensorflow-1.2.0-cp36-cp36m-manylinux1_x86_64.whl (35.0MB)\n",
            "\u001b[K    100% |████████████████████████████████| 35.0MB 38kB/s \n"
          ],
          "name": "stdout"
        },
        {
          "output_type": "stream",
          "text": [
            "\u001b[?25hRequirement already satisfied: protobuf>=3.2.0 in /usr/local/lib/python3.6/dist-packages (from tensorflow==1.2)\r\n",
            "Collecting markdown==2.2.0 (from tensorflow==1.2)\n",
            "  Downloading Markdown-2.2.0.tar.gz (236kB)\n",
            "\u001b[K    100% |████████████████████████████████| 245kB 4.0MB/s \n",
            "\u001b[?25hRequirement already satisfied: six>=1.10.0 in /usr/local/lib/python3.6/dist-packages (from tensorflow==1.2)\n",
            "Requirement already satisfied: html5lib==0.9999999 in /usr/local/lib/python3.6/dist-packages (from tensorflow==1.2)\n",
            "Requirement already satisfied: werkzeug>=0.11.10 in /usr/local/lib/python3.6/dist-packages (from tensorflow==1.2)\n",
            "Requirement already satisfied: wheel>=0.26 in /usr/local/lib/python3.6/dist-packages (from tensorflow==1.2)\n",
            "Requirement already satisfied: bleach==1.5.0 in /usr/local/lib/python3.6/dist-packages (from tensorflow==1.2)\n",
            "Requirement already satisfied: numpy>=1.11.0 in /usr/local/lib/python3.6/dist-packages (from tensorflow==1.2)\n",
            "Collecting backports.weakref==1.0rc1 (from tensorflow==1.2)\n",
            "  Downloading backports.weakref-1.0rc1-py3-none-any.whl\n",
            "Requirement already satisfied: setuptools in /usr/local/lib/python3.6/dist-packages (from protobuf>=3.2.0->tensorflow==1.2)\n",
            "Building wheels for collected packages: markdown\n",
            "  Running setup.py bdist_wheel for markdown ... \u001b[?25l-\b \b\\\b \b|\b \b/\b \b-\b \bdone\n",
            "\u001b[?25h  Stored in directory: /content/.cache/pip/wheels/b9/4f/6c/f4c1c5207c1d0eeaaf7005f7f736620c6ded6617c9d9b94096\n",
            "Successfully built markdown\n",
            "Installing collected packages: markdown, backports.weakref, tensorflow\n",
            "  Found existing installation: Markdown 2.6.11\n",
            "    Uninstalling Markdown-2.6.11:\n",
            "      Successfully uninstalled Markdown-2.6.11\n",
            "  Found existing installation: tensorflow 1.6.0rc1\n",
            "    Uninstalling tensorflow-1.6.0rc1:\n",
            "      Successfully uninstalled tensorflow-1.6.0rc1\n",
            "Successfully installed backports.weakref-1.0rc1 markdown-2.2.0 tensorflow-1.2.0\n",
            "Collecting tf-nightly\n",
            "  Downloading tf_nightly-1.7.0.dev20180222-cp36-cp36m-manylinux1_x86_64.whl (45.9MB)\n",
            "\u001b[K    100% |████████████████████████████████| 45.9MB 29kB/s \n",
            "\u001b[?25hRequirement already satisfied: protobuf>=3.4.0 in /usr/local/lib/python3.6/dist-packages (from tf-nightly)\n",
            "Requirement already satisfied: numpy>=1.13.3 in /usr/local/lib/python3.6/dist-packages (from tf-nightly)\n",
            "Requirement already satisfied: wheel>=0.26 in /usr/local/lib/python3.6/dist-packages (from tf-nightly)\n",
            "Requirement already satisfied: termcolor>=1.1.0 in /usr/local/lib/python3.6/dist-packages (from tf-nightly)\n",
            "Requirement already satisfied: astor>=0.6.0 in /usr/local/lib/python3.6/dist-packages (from tf-nightly)\n",
            "Requirement already satisfied: absl-py>=0.1.6 in /usr/local/lib/python3.6/dist-packages (from tf-nightly)\n",
            "Requirement already satisfied: grpcio>=1.8.6 in /usr/local/lib/python3.6/dist-packages (from tf-nightly)\n",
            "Requirement already satisfied: gast>=0.2.0 in /usr/local/lib/python3.6/dist-packages (from tf-nightly)\n",
            "Collecting tb-nightly<1.8.0a0,>=1.7.0a0 (from tf-nightly)\n",
            "  Downloading tb_nightly-1.7.0a20180222-py3-none-any.whl (3.0MB)\n",
            "\u001b[K    100% |████████████████████████████████| 3.1MB 426kB/s \n",
            "\u001b[?25hRequirement already satisfied: six>=1.10.0 in /usr/local/lib/python3.6/dist-packages (from tf-nightly)\n",
            "Requirement already satisfied: setuptools in /usr/local/lib/python3.6/dist-packages (from protobuf>=3.4.0->tf-nightly)\n",
            "Requirement already satisfied: html5lib==0.9999999 in /usr/local/lib/python3.6/dist-packages (from tb-nightly<1.8.0a0,>=1.7.0a0->tf-nightly)\n",
            "Requirement already satisfied: werkzeug>=0.11.10 in /usr/local/lib/python3.6/dist-packages (from tb-nightly<1.8.0a0,>=1.7.0a0->tf-nightly)\n",
            "Requirement already satisfied: bleach==1.5.0 in /usr/local/lib/python3.6/dist-packages (from tb-nightly<1.8.0a0,>=1.7.0a0->tf-nightly)\n"
          ],
          "name": "stdout"
        },
        {
          "output_type": "stream",
          "text": [
            "Collecting markdown>=2.6.8 (from tb-nightly<1.8.0a0,>=1.7.0a0->tf-nightly)\r\n",
            "  Downloading Markdown-2.6.11-py2.py3-none-any.whl (78kB)\r\n",
            "\u001b[K    100% |████████████████████████████████| 81kB 9.9MB/s \n",
            "\u001b[?25hInstalling collected packages: markdown, tb-nightly, tf-nightly\n",
            "  Found existing installation: Markdown 2.2.0\n",
            "    Uninstalling Markdown-2.2.0:\n",
            "      Successfully uninstalled Markdown-2.2.0\n",
            "Successfully installed markdown-2.6.11 tb-nightly-1.7.0a20180222 tf-nightly-1.7.0.dev20180222\n"
          ],
          "name": "stdout"
        }
      ]
    },
    {
      "metadata": {
        "id": "teSwepe5FPbv",
        "colab_type": "text"
      },
      "cell_type": "markdown",
      "source": [
        "# Linux/Unix commands\n",
        "\n",
        "One downside (depending on how you look at it) to only having the notebook interface is that you do not have any access to a terminal environment or the underlying operating system of the virtual machine this notebook is running on. We can get around this limitation using the `!` operator in IPython. Any line prepended with `!` will run what follows as a shell command (like if you were running it in a terminal)."
      ]
    },
    {
      "metadata": {
        "id": "xaQPd_mfFyQn",
        "colab_type": "code",
        "colab": {
          "base_uri": "https://localhost:8080/",
          "height": 34
        },
        "outputId": "14f457d9-ff04-4af3-b8f5-b620146d2a31"
      },
      "cell_type": "code",
      "source": [
        "# who am I?\n",
        "!whoami"
      ],
      "execution_count": 0,
      "outputs": [
        {
          "output_type": "stream",
          "text": [
            "root\r\n"
          ],
          "name": "stdout"
        }
      ]
    },
    {
      "metadata": {
        "id": "0hJmOR6EF1jv",
        "colab_type": "code",
        "colab": {
          "base_uri": "https://localhost:8080/",
          "height": 34
        },
        "outputId": "4a5c856b-d51b-4706-f7fc-2405c8659160"
      },
      "cell_type": "code",
      "source": [
        "# where am I?\n",
        "!pwd"
      ],
      "execution_count": 0,
      "outputs": [
        {
          "output_type": "stream",
          "text": [
            "/content\r\n"
          ],
          "name": "stdout"
        }
      ]
    },
    {
      "metadata": {
        "id": "0tVT8m-AF51u",
        "colab_type": "code",
        "colab": {
          "base_uri": "https://localhost:8080/",
          "height": 34
        },
        "outputId": "e359572b-d393-4b21-fbf2-9a3715df807a"
      },
      "cell_type": "code",
      "source": [
        "# what is here?\n",
        "!ls"
      ],
      "execution_count": 0,
      "outputs": [
        {
          "output_type": "stream",
          "text": [
            "datalab\r\n"
          ],
          "name": "stdout"
        }
      ]
    },
    {
      "metadata": {
        "id": "xtcr96H9GVBV",
        "colab_type": "text"
      },
      "cell_type": "markdown",
      "source": [
        "## Downloading/Uploading Files\n",
        "\n",
        "For documentation on all the options see the [Google Notebook](https://colab.research.google.com/notebook#fileId=/v2/external/notebooks/io.ipynb&scrollTo=BaCkyg5CV5jF)\n",
        "\n",
        "In addition to what is listed in the Google notebook docs, you can interact with files on the web using Unix/Linux commands 👇"
      ]
    },
    {
      "metadata": {
        "id": "dqgMVk1NHBAF",
        "colab_type": "code",
        "colab": {
          "base_uri": "https://localhost:8080/",
          "height": 289
        },
        "outputId": "9033bd9b-3505-420c-84f6-8d156f20d1a0"
      },
      "cell_type": "code",
      "source": [
        "# get a Github repository\n",
        "!wget https://github.com/tensorflow/magenta/archive/master.zip"
      ],
      "execution_count": 0,
      "outputs": [
        {
          "output_type": "stream",
          "text": [
            "--2018-02-03 00:44:36--  https://github.com/tensorflow/magenta/archive/master.zip\r\n",
            "Resolving github.com (github.com)... 192.30.253.112, 192.30.253.113\r\n",
            "Connecting to github.com (github.com)|192.30.253.112|:443... connected.\n",
            "HTTP request sent, awaiting response... 302 Found\n",
            "Location: https://codeload.github.com/tensorflow/magenta/zip/master [following]\n",
            "--2018-02-03 00:44:37--  https://codeload.github.com/tensorflow/magenta/zip/master\n",
            "Resolving codeload.github.com (codeload.github.com)... 192.30.253.121, 192.30.253.120\n",
            "Connecting to codeload.github.com (codeload.github.com)|192.30.253.121|:443... connected.\n",
            "HTTP request sent, awaiting response... 200 OK\n",
            "Length: unspecified [application/zip]\n",
            "Saving to: ‘master.zip’\n",
            "\n",
            "master.zip              [   <=>              ]  13.28M  18.1MB/s    in 0.7s    \n",
            "\n",
            "2018-02-03 00:44:38 (18.1 MB/s) - ‘master.zip’ saved [13929640]\n",
            "\n"
          ],
          "name": "stdout"
        }
      ]
    },
    {
      "metadata": {
        "id": "w4iyFbL_HbFH",
        "colab_type": "code",
        "colab": {
          "base_uri": "https://localhost:8080/",
          "height": 34
        },
        "outputId": "bce4b154-1737-4f94-b5ae-fc0cd5b3351e"
      },
      "cell_type": "code",
      "source": [
        "# it worked!\n",
        "!ls"
      ],
      "execution_count": 0,
      "outputs": [
        {
          "output_type": "stream",
          "text": [
            "datalab  magenta.zip  master.zip\r\n"
          ],
          "name": "stdout"
        }
      ]
    },
    {
      "metadata": {
        "id": "lZtH-MUhHcTo",
        "colab_type": "code",
        "colab": {
          "base_uri": "https://localhost:8080/",
          "height": 8418
        },
        "outputId": "c901ec22-f3a8-4d9d-9322-823e920087a9"
      },
      "cell_type": "code",
      "source": [
        "# now we need to unzip it\n",
        "!unzip master.zip"
      ],
      "execution_count": 0,
      "outputs": [
        {
          "output_type": "stream",
          "text": [
            "Archive:  master.zip\r\n",
            "e6597d7918d4b374dba407ca91654a7d8f884fbb\r\n",
            "   creating: magenta-master/\r\n",
            " extracting: magenta-master/.gitignore  \r\n",
            " extracting: magenta-master/.gitmodules  \r\n",
            "  inflating: magenta-master/AUTHORS  \r\n",
            "  inflating: magenta-master/LICENSE  \r\n",
            "  inflating: magenta-master/README.md  \r\n",
            "  inflating: magenta-master/WORKSPACE  \r\n",
            "   creating: magenta-master/demos/\r\n",
            "  inflating: magenta-master/demos/README.md  \r\n",
            "   creating: magenta-master/kokoro/\r\n",
            "   creating: magenta-master/kokoro/gcp_ubuntu/\r\n",
            "   creating: magenta-master/kokoro/gcp_ubuntu/py2/\r\n",
            "  inflating: magenta-master/kokoro/gcp_ubuntu/py2/presubmit.sh  \r\n",
            "   creating: magenta-master/kokoro/gcp_ubuntu/py3/\r\n",
            "  inflating: magenta-master/kokoro/gcp_ubuntu/py3/presubmit.sh  \r\n",
            "  inflating: magenta-master/kokoro/test.sh  \r\n",
            "  inflating: magenta-master/magenta-logo-bg.png  \r\n",
            "   creating: magenta-master/magenta/\r\n",
            "  inflating: magenta-master/magenta/BUILD  \r\n",
            "  inflating: magenta-master/magenta/__init__.py  \r\n",
            "   creating: magenta-master/magenta/common/\r\n",
            "  inflating: magenta-master/magenta/common/BUILD  \r\n",
            "  inflating: magenta-master/magenta/common/__init__.py  \r\n",
            "  inflating: magenta-master/magenta/common/beam_search.py  \r\n",
            "  inflating: magenta-master/magenta/common/beam_search_test.py  \r\n",
            "  inflating: magenta-master/magenta/common/concurrency.py  \r\n",
            "  inflating: magenta-master/magenta/common/concurrency_test.py  \r\n",
            "  inflating: magenta-master/magenta/common/nade.py  \r\n",
            "  inflating: magenta-master/magenta/common/nade_test.py  \r\n",
            "  inflating: magenta-master/magenta/common/sequence_example_lib.py  \r\n",
            "  inflating: magenta-master/magenta/common/state_util.py  \r\n",
            "  inflating: magenta-master/magenta/common/state_util_test.py  \r\n",
            "  inflating: magenta-master/magenta/common/testing_lib.py  \r\n",
            "  inflating: magenta-master/magenta/common/tf_utils.py  \r\n",
            "   creating: magenta-master/magenta/interfaces/\r\n",
            "  inflating: magenta-master/magenta/interfaces/BUILD  \r\n",
            "   creating: magenta-master/magenta/interfaces/midi/\r\n",
            "  inflating: magenta-master/magenta/interfaces/midi/BUILD  \r\n",
            "  inflating: magenta-master/magenta/interfaces/midi/README.md  \r\n",
            "  inflating: magenta-master/magenta/interfaces/midi/magenta_midi.py  \r\n",
            "  inflating: magenta-master/magenta/interfaces/midi/midi.png  \r\n",
            "  inflating: magenta-master/magenta/interfaces/midi/midi_clock.py  \r\n",
            "  inflating: magenta-master/magenta/interfaces/midi/midi_hub.py  \r\n",
            "  inflating: magenta-master/magenta/interfaces/midi/midi_hub_test.py  \r\n",
            "  inflating: magenta-master/magenta/interfaces/midi/midi_interaction.py  \r\n",
            "   creating: magenta-master/magenta/models/\r\n",
            "  inflating: magenta-master/magenta/models/README.md  \r\n",
            "   creating: magenta-master/magenta/models/arbitrary_image_stylization/\r\n",
            "  inflating: magenta-master/magenta/models/arbitrary_image_stylization/BUILD  \r\n",
            "  inflating: magenta-master/magenta/models/arbitrary_image_stylization/README.md  \r\n",
            "  inflating: magenta-master/magenta/models/arbitrary_image_stylization/arbitrary_image_stylization_build_model.py  \r\n",
            "  inflating: magenta-master/magenta/models/arbitrary_image_stylization/arbitrary_image_stylization_evaluate.py  \r\n",
            "  inflating: magenta-master/magenta/models/arbitrary_image_stylization/arbitrary_image_stylization_losses.py  \r\n",
            "  inflating: magenta-master/magenta/models/arbitrary_image_stylization/arbitrary_image_stylization_train.py  \r\n",
            "  inflating: magenta-master/magenta/models/arbitrary_image_stylization/arbitrary_image_stylization_with_weights.py  \r\n",
            "   creating: magenta-master/magenta/models/arbitrary_image_stylization/images/\r\n",
            "   creating: magenta-master/magenta/models/arbitrary_image_stylization/images/content_images/\r\n",
            "  inflating: magenta-master/magenta/models/arbitrary_image_stylization/images/content_images/README.md  \r\n",
            "  inflating: magenta-master/magenta/models/arbitrary_image_stylization/images/content_images/colva_beach_sq.jpg  \r\n",
            "  inflating: magenta-master/magenta/models/arbitrary_image_stylization/images/content_images/eiffel_tower.jpg  \r\n",
            "  inflating: magenta-master/magenta/models/arbitrary_image_stylization/images/content_images/golden_gate_sq.jpg  \r\n",
            "  inflating: magenta-master/magenta/models/arbitrary_image_stylization/images/content_images/statue_of_liberty_sq.jpg  \r\n",
            "   creating: magenta-master/magenta/models/arbitrary_image_stylization/images/style_images/\r\n",
            "  inflating: magenta-master/magenta/models/arbitrary_image_stylization/images/style_images/Camille_Mauclair.jpg  \r\n",
            "  inflating: magenta-master/magenta/models/arbitrary_image_stylization/images/style_images/La_forma.jpg  \r\n",
            "  inflating: magenta-master/magenta/models/arbitrary_image_stylization/images/style_images/README.md  \r\n",
            "  inflating: magenta-master/magenta/models/arbitrary_image_stylization/images/style_images/Theo_van_Doesburg_sq.jpg  \r\n",
            "  inflating: magenta-master/magenta/models/arbitrary_image_stylization/images/style_images/black_zigzag.jpg  \r\n",
            "  inflating: magenta-master/magenta/models/arbitrary_image_stylization/images/style_images/bricks_sq.jpg  \r\n",
            "  inflating: magenta-master/magenta/models/arbitrary_image_stylization/images/style_images/clouds-over-bor-1940_sq.jpg  \r\n",
            "  inflating: magenta-master/magenta/models/arbitrary_image_stylization/images/style_images/piano-keyboard-sketch_sq.jpg  \r\n",
            "  inflating: magenta-master/magenta/models/arbitrary_image_stylization/images/style_images/pink_zigzag.jpg  \r\n",
            "  inflating: magenta-master/magenta/models/arbitrary_image_stylization/images/style_images/red_texture_sq.jpg  \r\n",
            "  inflating: magenta-master/magenta/models/arbitrary_image_stylization/images/style_images/towers_1916_sq.jpg  \r\n",
            "  inflating: magenta-master/magenta/models/arbitrary_image_stylization/images/style_images/zigzag_colorful.jpg  \r\n",
            "   creating: magenta-master/magenta/models/arbitrary_image_stylization/images/stylized_cobwebbed_images/\r\n",
            "  inflating: magenta-master/magenta/models/arbitrary_image_stylization/images/stylized_cobwebbed_images/eiffel_tower_stylized_cobwebbed_0044_0.jpg  \r\n",
            "  inflating: magenta-master/magenta/models/arbitrary_image_stylization/images/stylized_cobwebbed_images/eiffel_tower_stylized_cobwebbed_0053_0.jpg  \r\n",
            "  inflating: magenta-master/magenta/models/arbitrary_image_stylization/images/stylized_cobwebbed_images/eiffel_tower_stylized_cobwebbed_0057_0.jpg  \r\n",
            "  inflating: magenta-master/magenta/models/arbitrary_image_stylization/images/stylized_cobwebbed_images/eiffel_tower_stylized_cobwebbed_0059_0.jpg  \r\n",
            "  inflating: magenta-master/magenta/models/arbitrary_image_stylization/images/stylized_cobwebbed_images/eiffel_tower_stylized_cobwebbed_0116_0.jpg  \r\n",
            "  inflating: magenta-master/magenta/models/arbitrary_image_stylization/images/stylized_cobwebbed_images/eiffel_tower_stylized_cobwebbed_0129_0.jpg  \r\n",
            "   creating: magenta-master/magenta/models/arbitrary_image_stylization/images/stylized_images/\r\n",
            "  inflating: magenta-master/magenta/models/arbitrary_image_stylization/images/stylized_images/colva_beach_stylized_black_zigzag_0.jpg  \r\n",
            "  inflating: magenta-master/magenta/models/arbitrary_image_stylization/images/stylized_images/colva_beach_stylized_clouds-over-bor-1940_0.jpg  \r\n",
            "  inflating: magenta-master/magenta/models/arbitrary_image_stylization/images/stylized_images/colva_beach_stylized_piano-keyboard-sketch_0.jpg  \r\n",
            "  inflating: magenta-master/magenta/models/arbitrary_image_stylization/images/stylized_images/colva_beach_stylized_red_texture_0.jpg  \r\n",
            "  inflating: magenta-master/magenta/models/arbitrary_image_stylization/images/stylized_images/colva_beach_stylized_towers_1916_0.jpg  \r\n",
            "  inflating: magenta-master/magenta/models/arbitrary_image_stylization/images/stylized_images/golden_gate_stylized_12_0.jpg  \r\n",
            "  inflating: magenta-master/magenta/models/arbitrary_image_stylization/images/stylized_images/golden_gate_stylized_13_0.jpg  \r\n",
            "  inflating: magenta-master/magenta/models/arbitrary_image_stylization/images/stylized_images/golden_gate_stylized_2_0.jpg  \r\n",
            "  inflating: magenta-master/magenta/models/arbitrary_image_stylization/images/stylized_images/golden_gate_stylized_3_0.jpg  \r\n",
            "  inflating: magenta-master/magenta/models/arbitrary_image_stylization/images/stylized_images/golden_gate_stylized_4_0.jpg  \r\n",
            "  inflating: magenta-master/magenta/models/arbitrary_image_stylization/images/stylized_images/golden_gate_stylized_black_zigzag_0.jpg  \r\n",
            "  inflating: magenta-master/magenta/models/arbitrary_image_stylization/images/stylized_images/golden_gate_stylized_clouds-over-bor-1940_0.jpg  \r\n",
            "  inflating: magenta-master/magenta/models/arbitrary_image_stylization/images/stylized_images/golden_gate_stylized_piano-keyboard-sketch_0.jpg  \r\n",
            "  inflating: magenta-master/magenta/models/arbitrary_image_stylization/images/stylized_images/golden_gate_stylized_red_texture_0.jpg  \r\n",
            "  inflating: magenta-master/magenta/models/arbitrary_image_stylization/images/stylized_images/golden_gate_stylized_towers_1916_0.jpg  \r\n",
            "   creating: magenta-master/magenta/models/arbitrary_image_stylization/images/stylized_images_interpolation/\r\n",
            "  inflating: magenta-master/magenta/models/arbitrary_image_stylization/images/stylized_images_interpolation/colva_beach_stylized_bricks_0.jpg  \r\n",
            "  inflating: magenta-master/magenta/models/arbitrary_image_stylization/images/stylized_images_interpolation/colva_beach_stylized_bricks_1.jpg  \r\n",
            "  inflating: magenta-master/magenta/models/arbitrary_image_stylization/images/stylized_images_interpolation/colva_beach_stylized_bricks_2.jpg  \r\n",
            "  inflating: magenta-master/magenta/models/arbitrary_image_stylization/images/stylized_images_interpolation/colva_beach_stylized_bricks_3.jpg  \r\n",
            "  inflating: magenta-master/magenta/models/arbitrary_image_stylization/images/stylized_images_interpolation/colva_beach_stylized_bricks_4.jpg  \r\n",
            "  inflating: magenta-master/magenta/models/arbitrary_image_stylization/images/stylized_images_interpolation/colva_beach_stylized_bricks_5.jpg  \r\n",
            "  inflating: magenta-master/magenta/models/arbitrary_image_stylization/images/stylized_images_interpolation/statue_of_liberty_stylized_Theo_van_Doesburg_0.jpg  \r\n",
            "  inflating: magenta-master/magenta/models/arbitrary_image_stylization/images/stylized_images_interpolation/statue_of_liberty_stylized_Theo_van_Doesburg_1.jpg  \r\n",
            "  inflating: magenta-master/magenta/models/arbitrary_image_stylization/images/stylized_images_interpolation/statue_of_liberty_stylized_Theo_van_Doesburg_2.jpg  \r\n",
            "  inflating: magenta-master/magenta/models/arbitrary_image_stylization/images/stylized_images_interpolation/statue_of_liberty_stylized_Theo_van_Doesburg_3.jpg  \r\n",
            "  inflating: magenta-master/magenta/models/arbitrary_image_stylization/images/stylized_images_interpolation/statue_of_liberty_stylized_Theo_van_Doesburg_4.jpg  \r\n",
            "  inflating: magenta-master/magenta/models/arbitrary_image_stylization/images/stylized_images_interpolation/statue_of_liberty_stylized_Theo_van_Doesburg_5.jpg  \r\n",
            "  inflating: magenta-master/magenta/models/arbitrary_image_stylization/images/white.jpg  \r\n",
            "  inflating: magenta-master/magenta/models/arbitrary_image_stylization/nza_model.py  \r\n",
            "   creating: magenta-master/magenta/models/coconet/\r\n",
            "  inflating: magenta-master/magenta/models/coconet/BUILD  \r\n",
            "  inflating: magenta-master/magenta/models/coconet/README.md  \r\n",
            "  inflating: magenta-master/magenta/models/coconet/coconet_evaluate.py  \r\n",
            "  inflating: magenta-master/magenta/models/coconet/coconet_sample.py  \r\n",
            "  inflating: magenta-master/magenta/models/coconet/coconet_train.py  \r\n",
            "  inflating: magenta-master/magenta/models/coconet/evalmodel_bazel.sh  \r\n",
            "  inflating: magenta-master/magenta/models/coconet/evalsample_bazel.sh  \r\n",
            "  inflating: magenta-master/magenta/models/coconet/lib_data.py  \r\n",
            "  inflating: magenta-master/magenta/models/coconet/lib_evaluation.py  \r\n",
            "  inflating: magenta-master/magenta/models/coconet/lib_graph.py  \r\n",
            "  inflating: magenta-master/magenta/models/coconet/lib_hparams.py  \r\n",
            "  inflating: magenta-master/magenta/models/coconet/lib_logging.py  \r\n",
            "  inflating: magenta-master/magenta/models/coconet/lib_mask.py  \r\n",
            "  inflating: magenta-master/magenta/models/coconet/lib_pianoroll.py  \r\n",
            "  inflating: magenta-master/magenta/models/coconet/lib_sampling.py  \r\n",
            "  inflating: magenta-master/magenta/models/coconet/lib_tfutil.py  \r\n",
            "  inflating: magenta-master/magenta/models/coconet/lib_util.py  \r\n",
            "  inflating: magenta-master/magenta/models/coconet/sample_bazel.sh  \r\n",
            "   creating: magenta-master/magenta/models/coconet/samples/\r\n",
            "  inflating: magenta-master/magenta/models/coconet/samples/generated_result.npy  \r\n",
            "   creating: magenta-master/magenta/models/coconet/testdata/\r\n",
            "  inflating: magenta-master/magenta/models/coconet/testdata/TestData.npz  \r\n",
            "  inflating: magenta-master/magenta/models/coconet/train_bazel.sh  \r\n",
            "   creating: magenta-master/magenta/models/drums_rnn/\r\n",
            "  inflating: magenta-master/magenta/models/drums_rnn/BUILD  \r\n",
            "  inflating: magenta-master/magenta/models/drums_rnn/README.md  \r\n",
            "  inflating: magenta-master/magenta/models/drums_rnn/__init__.py  \r\n",
            "  inflating: magenta-master/magenta/models/drums_rnn/drums_rnn_config_flags.py  \r\n",
            "  inflating: magenta-master/magenta/models/drums_rnn/drums_rnn_create_dataset.py  \r\n",
            "  inflating: magenta-master/magenta/models/drums_rnn/drums_rnn_create_dataset_test.py  \r\n",
            "  inflating: magenta-master/magenta/models/drums_rnn/drums_rnn_generate.py  \r\n",
            "  inflating: magenta-master/magenta/models/drums_rnn/drums_rnn_model.py  \r\n",
            "  inflating: magenta-master/magenta/models/drums_rnn/drums_rnn_sequence_generator.py  \r\n",
            "  inflating: magenta-master/magenta/models/drums_rnn/drums_rnn_train.py  \r\n",
            "   creating: magenta-master/magenta/models/image_stylization/\r\n",
            "  inflating: magenta-master/magenta/models/image_stylization/BUILD  \r\n",
            "  inflating: magenta-master/magenta/models/image_stylization/README.md  \r\n",
            "   creating: magenta-master/magenta/models/image_stylization/evaluation_images/\r\n",
            "  inflating: magenta-master/magenta/models/image_stylization/evaluation_images/BUILD  \r\n",
            "  inflating: magenta-master/magenta/models/image_stylization/evaluation_images/benjamin_harrison.jpg  \r\n",
            "  inflating: magenta-master/magenta/models/image_stylization/evaluation_images/coast_guard_boat.jpg  \r\n",
            "  inflating: magenta-master/magenta/models/image_stylization/evaluation_images/doug_eck.jpg  \r\n",
            "  inflating: magenta-master/magenta/models/image_stylization/evaluation_images/guerrillero_heroico.jpg  \r\n",
            "  inflating: magenta-master/magenta/models/image_stylization/evaluation_images/picabo_lava.jpg  \r\n",
            "  inflating: magenta-master/magenta/models/image_stylization/image_stylization_create_dataset.py  \r\n",
            "  inflating: magenta-master/magenta/models/image_stylization/image_stylization_evaluate.py  \r\n",
            "  inflating: magenta-master/magenta/models/image_stylization/image_stylization_finetune.py  \r\n",
            "  inflating: magenta-master/magenta/models/image_stylization/image_stylization_train.py  \r\n",
            "  inflating: magenta-master/magenta/models/image_stylization/image_stylization_transform.py  \r\n",
            "  inflating: magenta-master/magenta/models/image_stylization/image_utils.py  \r\n",
            "  inflating: magenta-master/magenta/models/image_stylization/imagenet_data.py  \r\n",
            "  inflating: magenta-master/magenta/models/image_stylization/learning.py  \r\n",
            "  inflating: magenta-master/magenta/models/image_stylization/model.py  \r\n",
            "  inflating: magenta-master/magenta/models/image_stylization/ops.py  \r\n",
            "  inflating: magenta-master/magenta/models/image_stylization/vgg.py  \r\n",
            "   creating: magenta-master/magenta/models/improv_rnn/\r\n",
            "  inflating: magenta-master/magenta/models/improv_rnn/BUILD  \r\n",
            "  inflating: magenta-master/magenta/models/improv_rnn/README.md  \r\n",
            "  inflating: magenta-master/magenta/models/improv_rnn/__init__.py  \r\n",
            "  inflating: magenta-master/magenta/models/improv_rnn/improv_rnn_config_flags.py  \r\n",
            "  inflating: magenta-master/magenta/models/improv_rnn/improv_rnn_create_dataset.py  \r\n",
            "  inflating: magenta-master/magenta/models/improv_rnn/improv_rnn_create_dataset_test.py  \r\n",
            "  inflating: magenta-master/magenta/models/improv_rnn/improv_rnn_generate.py  \r\n",
            "  inflating: magenta-master/magenta/models/improv_rnn/improv_rnn_model.py  \r\n",
            "  inflating: magenta-master/magenta/models/improv_rnn/improv_rnn_sequence_generator.py  \r\n",
            "  inflating: magenta-master/magenta/models/improv_rnn/improv_rnn_train.py  \r\n",
            "   creating: magenta-master/magenta/models/melody_rnn/\r\n",
            "  inflating: magenta-master/magenta/models/melody_rnn/BUILD  \r\n",
            "  inflating: magenta-master/magenta/models/melody_rnn/README.md  \r\n",
            "  inflating: magenta-master/magenta/models/melody_rnn/__init__.py  \r\n",
            "  inflating: magenta-master/magenta/models/melody_rnn/melody_rnn_config_flags.py  \r\n",
            "  inflating: magenta-master/magenta/models/melody_rnn/melody_rnn_create_dataset.py  \r\n",
            "  inflating: magenta-master/magenta/models/melody_rnn/melody_rnn_create_dataset_test.py  \r\n",
            "  inflating: magenta-master/magenta/models/melody_rnn/melody_rnn_generate.py  \r\n",
            "  inflating: magenta-master/magenta/models/melody_rnn/melody_rnn_model.py  \r\n",
            "  inflating: magenta-master/magenta/models/melody_rnn/melody_rnn_sequence_generator.py  \r\n",
            "  inflating: magenta-master/magenta/models/melody_rnn/melody_rnn_train.py  \r\n",
            "  inflating: magenta-master/magenta/models/melody_rnn/primer.mid  \r\n",
            "   creating: magenta-master/magenta/models/music_vae/\r\n",
            "  inflating: magenta-master/magenta/models/music_vae/BUILD  \r\n",
            "  inflating: magenta-master/magenta/models/music_vae/README.md  \r\n",
            "  inflating: magenta-master/magenta/models/music_vae/__init__.py  \r\n",
            "  inflating: magenta-master/magenta/models/music_vae/base_model.py  \r\n",
            "  inflating: magenta-master/magenta/models/music_vae/configs.py  \r\n",
            "  inflating: magenta-master/magenta/models/music_vae/data.py  \r\n",
            "  inflating: magenta-master/magenta/models/music_vae/data_test.py  \r\n",
            "  inflating: magenta-master/magenta/models/music_vae/lstm_models.py  \r\n",
            "  inflating: magenta-master/magenta/models/music_vae/lstm_utils.py  \r\n",
            "  inflating: magenta-master/magenta/models/music_vae/music_vae_train.py  \r\n",
            "  inflating: magenta-master/magenta/models/music_vae/trained_model.py  \r\n",
            "   creating: magenta-master/magenta/models/nsynth/\r\n",
            "  inflating: magenta-master/magenta/models/nsynth/BUILD  \r\n",
            "  inflating: magenta-master/magenta/models/nsynth/README.md  \r\n",
            "   creating: magenta-master/magenta/models/nsynth/baseline/\r\n",
            "  inflating: magenta-master/magenta/models/nsynth/baseline/BUILD  \r\n",
            "   creating: magenta-master/magenta/models/nsynth/baseline/models/\r\n",
            "  inflating: magenta-master/magenta/models/nsynth/baseline/models/ae.py  \r\n",
            "   creating: magenta-master/magenta/models/nsynth/baseline/models/ae_configs/\r\n",
            "  inflating: magenta-master/magenta/models/nsynth/baseline/models/ae_configs/nfft_1024.py  \r\n",
            "  inflating: magenta-master/magenta/models/nsynth/baseline/save_embeddings.py  \r\n",
            "  inflating: magenta-master/magenta/models/nsynth/baseline/train.py  \r\n",
            "  inflating: magenta-master/magenta/models/nsynth/reader.py  \r\n",
            "  inflating: magenta-master/magenta/models/nsynth/utils.py  \r\n",
            "   creating: magenta-master/magenta/models/nsynth/wavenet/\r\n",
            "  inflating: magenta-master/magenta/models/nsynth/wavenet/BUILD  \r\n",
            "  inflating: magenta-master/magenta/models/nsynth/wavenet/fastgen.py  \r\n",
            "  inflating: magenta-master/magenta/models/nsynth/wavenet/h512_bo16.py  \r\n",
            "  inflating: magenta-master/magenta/models/nsynth/wavenet/masked.py  \r\n",
            "  inflating: magenta-master/magenta/models/nsynth/wavenet/nsynth_generate.py  \r\n",
            "  inflating: magenta-master/magenta/models/nsynth/wavenet/nsynth_save_embeddings.py  \r\n",
            "  inflating: magenta-master/magenta/models/nsynth/wavenet/train.py  \r\n",
            "   creating: magenta-master/magenta/models/onsets_frames_transcription/\r\n",
            "  inflating: magenta-master/magenta/models/onsets_frames_transcription/BUILD  \r\n",
            "  inflating: magenta-master/magenta/models/onsets_frames_transcription/README.md  \r\n",
            "  inflating: magenta-master/magenta/models/onsets_frames_transcription/__init__.py  \r\n",
            "  inflating: magenta-master/magenta/models/onsets_frames_transcription/constants.py  \n",
            "  inflating: magenta-master/magenta/models/onsets_frames_transcription/data.py  \n",
            "  inflating: magenta-master/magenta/models/onsets_frames_transcription/data_test.py  \n",
            "  inflating: magenta-master/magenta/models/onsets_frames_transcription/infer_util.py  \n",
            "  inflating: magenta-master/magenta/models/onsets_frames_transcription/infer_util_test.py  \n",
            "  inflating: magenta-master/magenta/models/onsets_frames_transcription/model.py  \n",
            "  inflating: magenta-master/magenta/models/onsets_frames_transcription/onsets_frames_transcription_create_dataset.py  \n",
            "  inflating: magenta-master/magenta/models/onsets_frames_transcription/onsets_frames_transcription_create_dataset_test.py  \n",
            "  inflating: magenta-master/magenta/models/onsets_frames_transcription/onsets_frames_transcription_infer.py  \n",
            "  inflating: magenta-master/magenta/models/onsets_frames_transcription/onsets_frames_transcription_train.py  \n",
            "  inflating: magenta-master/magenta/models/onsets_frames_transcription/train_util.py  \n",
            "   creating: magenta-master/magenta/models/performance_rnn/\n",
            "  inflating: magenta-master/magenta/models/performance_rnn/BUILD  \n",
            "  inflating: magenta-master/magenta/models/performance_rnn/README.md  \n",
            "  inflating: magenta-master/magenta/models/performance_rnn/__init__.py  \n",
            "  inflating: magenta-master/magenta/models/performance_rnn/performance_encoder_decoder.py  \n",
            "  inflating: magenta-master/magenta/models/performance_rnn/performance_encoder_decoder_test.py  \n",
            "  inflating: magenta-master/magenta/models/performance_rnn/performance_lib.py  \n",
            "  inflating: magenta-master/magenta/models/performance_rnn/performance_lib_test.py  \n",
            "  inflating: magenta-master/magenta/models/performance_rnn/performance_model.py  \n",
            "  inflating: magenta-master/magenta/models/performance_rnn/performance_rnn_create_dataset.py  \n",
            "  inflating: magenta-master/magenta/models/performance_rnn/performance_rnn_create_dataset_test.py  \n",
            "  inflating: magenta-master/magenta/models/performance_rnn/performance_rnn_generate.py  \n",
            "  inflating: magenta-master/magenta/models/performance_rnn/performance_rnn_train.py  \n",
            "  inflating: magenta-master/magenta/models/performance_rnn/performance_sequence_generator.py  \n",
            "   creating: magenta-master/magenta/models/pianoroll_rnn_nade/\n",
            "  inflating: magenta-master/magenta/models/pianoroll_rnn_nade/BUILD  \n",
            "  inflating: magenta-master/magenta/models/pianoroll_rnn_nade/README.md  \n",
            "  inflating: magenta-master/magenta/models/pianoroll_rnn_nade/__init__.py  \n",
            "  inflating: magenta-master/magenta/models/pianoroll_rnn_nade/pianoroll_rnn_nade_create_dataset.py  \n",
            "  inflating: magenta-master/magenta/models/pianoroll_rnn_nade/pianoroll_rnn_nade_create_dataset_test.py  \n",
            "  inflating: magenta-master/magenta/models/pianoroll_rnn_nade/pianoroll_rnn_nade_generate.py  \n",
            "  inflating: magenta-master/magenta/models/pianoroll_rnn_nade/pianoroll_rnn_nade_graph.py  \n",
            "  inflating: magenta-master/magenta/models/pianoroll_rnn_nade/pianoroll_rnn_nade_model.py  \n",
            "  inflating: magenta-master/magenta/models/pianoroll_rnn_nade/pianoroll_rnn_nade_sequence_generator.py  \n",
            "  inflating: magenta-master/magenta/models/pianoroll_rnn_nade/pianoroll_rnn_nade_train.py  \n",
            "   creating: magenta-master/magenta/models/polyphony_rnn/\n",
            "  inflating: magenta-master/magenta/models/polyphony_rnn/BUILD  \n",
            "  inflating: magenta-master/magenta/models/polyphony_rnn/README.md  \n",
            "  inflating: magenta-master/magenta/models/polyphony_rnn/__init__.py  \n",
            "  inflating: magenta-master/magenta/models/polyphony_rnn/polyphony_encoder_decoder.py  \n",
            "  inflating: magenta-master/magenta/models/polyphony_rnn/polyphony_encoder_decoder_test.py  \n",
            "  inflating: magenta-master/magenta/models/polyphony_rnn/polyphony_lib.py  \n",
            "  inflating: magenta-master/magenta/models/polyphony_rnn/polyphony_lib_test.py  \n",
            "  inflating: magenta-master/magenta/models/polyphony_rnn/polyphony_model.py  \n",
            "  inflating: magenta-master/magenta/models/polyphony_rnn/polyphony_rnn_create_dataset.py  \n",
            "  inflating: magenta-master/magenta/models/polyphony_rnn/polyphony_rnn_create_dataset_test.py  \n",
            "  inflating: magenta-master/magenta/models/polyphony_rnn/polyphony_rnn_generate.py  \n",
            "  inflating: magenta-master/magenta/models/polyphony_rnn/polyphony_rnn_train.py  \n",
            "  inflating: magenta-master/magenta/models/polyphony_rnn/polyphony_sequence_generator.py  \n",
            "   creating: magenta-master/magenta/models/rl_tuner/\n",
            "  inflating: magenta-master/magenta/models/rl_tuner/BUILD  \n",
            "  inflating: magenta-master/magenta/models/rl_tuner/README.md  \n",
            "  inflating: magenta-master/magenta/models/rl_tuner/note_rnn_loader.py  \n",
            "  inflating: magenta-master/magenta/models/rl_tuner/rl_tuner.py  \n",
            "  inflating: magenta-master/magenta/models/rl_tuner/rl_tuner_eval_metrics.py  \n",
            "  inflating: magenta-master/magenta/models/rl_tuner/rl_tuner_ops.py  \n",
            "  inflating: magenta-master/magenta/models/rl_tuner/rl_tuner_test.py  \n",
            "  inflating: magenta-master/magenta/models/rl_tuner/rl_tuner_train.py  \n",
            "   creating: magenta-master/magenta/models/shared/\n",
            "  inflating: magenta-master/magenta/models/shared/BUILD  \n",
            "  inflating: magenta-master/magenta/models/shared/events_rnn_graph.py  \n",
            "  inflating: magenta-master/magenta/models/shared/events_rnn_graph_test.py  \n",
            "  inflating: magenta-master/magenta/models/shared/events_rnn_model.py  \n",
            "  inflating: magenta-master/magenta/models/shared/events_rnn_train.py  \n",
            "   creating: magenta-master/magenta/models/sketch_rnn/\n",
            "  inflating: magenta-master/magenta/models/sketch_rnn/BUILD  \n",
            "  inflating: magenta-master/magenta/models/sketch_rnn/README.md  \n",
            "   creating: magenta-master/magenta/models/sketch_rnn/assets/\n",
            "  inflating: magenta-master/magenta/models/sketch_rnn/assets/catbus.svg  \n",
            "  inflating: magenta-master/magenta/models/sketch_rnn/assets/data_format.svg  \n",
            "  inflating: magenta-master/magenta/models/sketch_rnn/assets/sketch_rnn_examples.svg  \n",
            "  inflating: magenta-master/magenta/models/sketch_rnn/assets/sketch_rnn_schematic.svg  \n",
            "  inflating: magenta-master/magenta/models/sketch_rnn/model.py  \n",
            "  inflating: magenta-master/magenta/models/sketch_rnn/rnn.py  \n",
            "  inflating: magenta-master/magenta/models/sketch_rnn/sketch_rnn_train.py  \n",
            "  inflating: magenta-master/magenta/models/sketch_rnn/utils.py  \n",
            "   creating: magenta-master/magenta/music/\n",
            "  inflating: magenta-master/magenta/music/BUILD  \n",
            "  inflating: magenta-master/magenta/music/__init__.py  \n",
            "  inflating: magenta-master/magenta/music/abc_parser.py  \n",
            "  inflating: magenta-master/magenta/music/abc_parser_test.py  \n",
            "  inflating: magenta-master/magenta/music/audio_io.py  \n",
            "  inflating: magenta-master/magenta/music/audio_io_test.py  \n",
            "  inflating: magenta-master/magenta/music/chord_symbols_lib.py  \n",
            "  inflating: magenta-master/magenta/music/chord_symbols_lib_test.py  \n",
            "  inflating: magenta-master/magenta/music/chords_encoder_decoder.py  \n",
            "  inflating: magenta-master/magenta/music/chords_encoder_decoder_test.py  \n",
            "  inflating: magenta-master/magenta/music/chords_lib.py  \n",
            "  inflating: magenta-master/magenta/music/chords_lib_test.py  \n",
            "  inflating: magenta-master/magenta/music/constants.py  \n",
            "  inflating: magenta-master/magenta/music/drums_encoder_decoder.py  \n",
            "  inflating: magenta-master/magenta/music/drums_encoder_decoder_test.py  \n",
            "  inflating: magenta-master/magenta/music/drums_lib.py  \n",
            "  inflating: magenta-master/magenta/music/drums_lib_test.py  \n",
            "  inflating: magenta-master/magenta/music/encoder_decoder.py  \n",
            "  inflating: magenta-master/magenta/music/encoder_decoder_test.py  \n",
            "  inflating: magenta-master/magenta/music/events_lib.py  \n",
            "  inflating: magenta-master/magenta/music/events_lib_test.py  \n",
            "  inflating: magenta-master/magenta/music/lead_sheets_lib.py  \n",
            "  inflating: magenta-master/magenta/music/lead_sheets_lib_test.py  \n",
            "  inflating: magenta-master/magenta/music/melodies_lib.py  \n",
            "  inflating: magenta-master/magenta/music/melodies_lib_test.py  \n",
            "  inflating: magenta-master/magenta/music/melody_encoder_decoder.py  \n",
            "  inflating: magenta-master/magenta/music/melody_encoder_decoder_test.py  \n",
            "  inflating: magenta-master/magenta/music/midi_io.py  \n",
            "  inflating: magenta-master/magenta/music/midi_io_test.py  \n",
            "  inflating: magenta-master/magenta/music/midi_synth.py  \n",
            "  inflating: magenta-master/magenta/music/model.py  \n",
            "  inflating: magenta-master/magenta/music/musicnet_io.py  \n",
            "  inflating: magenta-master/magenta/music/musicnet_io_test.py  \n",
            "  inflating: magenta-master/magenta/music/musicxml_parser.py  \n",
            "  inflating: magenta-master/magenta/music/musicxml_parser_test.py  \n",
            "  inflating: magenta-master/magenta/music/musicxml_reader.py  \n",
            "  inflating: magenta-master/magenta/music/note_sequence_io.py  \n",
            "  inflating: magenta-master/magenta/music/note_sequence_io_test.py  \n",
            "  inflating: magenta-master/magenta/music/notebook_utils.py  \n",
            "  inflating: magenta-master/magenta/music/pianoroll_encoder_decoder.py  \n",
            "  inflating: magenta-master/magenta/music/pianoroll_encoder_decoder_test.py  \n",
            "  inflating: magenta-master/magenta/music/pianoroll_lib.py  \n",
            "  inflating: magenta-master/magenta/music/pianoroll_lib_test.py  \n",
            "  inflating: magenta-master/magenta/music/sequence_generator.py  \n",
            "  inflating: magenta-master/magenta/music/sequence_generator_bundle.py  \n",
            "  inflating: magenta-master/magenta/music/sequence_generator_test.py  \n",
            "  inflating: magenta-master/magenta/music/sequences_lib.py  \n",
            "  inflating: magenta-master/magenta/music/sequences_lib_test.py  \n",
            "   creating: magenta-master/magenta/music/testdata/\n",
            "  inflating: magenta-master/magenta/music/testdata/README.md  \n",
            "  inflating: magenta-master/magenta/music/testdata/alternating_meter.xml  \n",
            "  inflating: magenta-master/magenta/music/testdata/atonal_transposition_change.xml  \n",
            "  inflating: magenta-master/magenta/music/testdata/chord_symbols.xml  \n",
            "  inflating: magenta-master/magenta/music/testdata/clarinet_scale.xml  \n",
            "  inflating: magenta-master/magenta/music/testdata/el_capitan.xml  \n",
            "  inflating: magenta-master/magenta/music/testdata/english.abc  \n",
            "  inflating: magenta-master/magenta/music/testdata/english1.mid  \n",
            "  inflating: magenta-master/magenta/music/testdata/english2.mid  \n",
            "  inflating: magenta-master/magenta/music/testdata/english3.mid  \n",
            "  inflating: magenta-master/magenta/music/testdata/example.wav  \n",
            "  inflating: magenta-master/magenta/music/testdata/example_mono.wav  \n",
            "  inflating: magenta-master/magenta/music/testdata/flute_scale.mxl  \n",
            "  inflating: magenta-master/magenta/music/testdata/flute_scale.xml  \n",
            "  inflating: magenta-master/magenta/music/testdata/flute_scale_with_png.mxl  \n",
            "  inflating: magenta-master/magenta/music/testdata/melody.mid  \n",
            "  inflating: magenta-master/magenta/music/testdata/meter_test.xml  \n",
            "  inflating: magenta-master/magenta/music/testdata/mid_measure_time_signature.xml  \n",
            "  inflating: magenta-master/magenta/music/testdata/rhythm_durations.xml  \n",
            "  inflating: magenta-master/magenta/music/testdata/st_anne.xml  \n",
            "  inflating: magenta-master/magenta/music/testdata/unicode_filename.mxl  \n",
            "  inflating: magenta-master/magenta/music/testdata/unmetered_example.xml  \n",
            "  inflating: magenta-master/magenta/music/testdata/unpitched.xml  \n",
            "  inflating: magenta-master/magenta/music/testdata/whole_measure_rest_forward.xml  \n",
            "  inflating: magenta-master/magenta/music/testdata/zocharti_loch.abc  \n",
            "  inflating: magenta-master/magenta/music/testing_lib.py  \n",
            "   creating: magenta-master/magenta/pipelines/\n",
            "  inflating: magenta-master/magenta/pipelines/BUILD  \n",
            "  inflating: magenta-master/magenta/pipelines/README.md  \n",
            "  inflating: magenta-master/magenta/pipelines/chord_pipelines.py  \n",
            "  inflating: magenta-master/magenta/pipelines/chord_pipelines_test.py  \n",
            "  inflating: magenta-master/magenta/pipelines/dag_pipeline.py  \n",
            "  inflating: magenta-master/magenta/pipelines/dag_pipeline_test.py  \n",
            "  inflating: magenta-master/magenta/pipelines/drum_pipelines.py  \n",
            "  inflating: magenta-master/magenta/pipelines/drum_pipelines_test.py  \n",
            "  inflating: magenta-master/magenta/pipelines/lead_sheet_pipelines.py  \n",
            "  inflating: magenta-master/magenta/pipelines/lead_sheet_pipelines_test.py  \n",
            "  inflating: magenta-master/magenta/pipelines/melody_pipelines.py  \n",
            "  inflating: magenta-master/magenta/pipelines/melody_pipelines_test.py  \n",
            "  inflating: magenta-master/magenta/pipelines/note_sequence_pipelines.py  \n",
            "  inflating: magenta-master/magenta/pipelines/note_sequence_pipelines_test.py  \n",
            "  inflating: magenta-master/magenta/pipelines/pipeline.py  \n",
            "  inflating: magenta-master/magenta/pipelines/pipeline_test.py  \n",
            "  inflating: magenta-master/magenta/pipelines/pipelines_common.py  \n",
            "  inflating: magenta-master/magenta/pipelines/pipelines_common_test.py  \n",
            "  inflating: magenta-master/magenta/pipelines/statistics.py  \n",
            "  inflating: magenta-master/magenta/pipelines/statistics_test.py  \n",
            "   creating: magenta-master/magenta/protobuf/\n",
            "  inflating: magenta-master/magenta/protobuf/BUILD  \n",
            "  inflating: magenta-master/magenta/protobuf/generator.proto  \n",
            "  inflating: magenta-master/magenta/protobuf/music.proto  \n",
            "   creating: magenta-master/magenta/reviews/\n",
            "  inflating: magenta-master/magenta/reviews/GAN.md  \n",
            "  inflating: magenta-master/magenta/reviews/README.md  \n",
            "   creating: magenta-master/magenta/reviews/assets/\n",
            "  inflating: magenta-master/magenta/reviews/assets/Nottingham_Piano_Roll.png  \n",
            "  inflating: magenta-master/magenta/reviews/assets/Pop_Music_Piano_Roll.png  \n",
            "  inflating: magenta-master/magenta/reviews/assets/RNN_RBM_Piano_Roll.png  \n",
            "  inflating: magenta-master/magenta/reviews/assets/RNN_RBM_Piano_Roll_2.png  \n",
            "  inflating: magenta-master/magenta/reviews/assets/attention_interpolation.png  \n",
            "  inflating: magenta-master/magenta/reviews/assets/attention_parameterization.png  \n",
            "  inflating: magenta-master/magenta/reviews/assets/color-preserving-ny.jpg  \n",
            "  inflating: magenta-master/magenta/reviews/assets/diagram.png  \n",
            "   creating: magenta-master/magenta/reviews/assets/gan/\n",
            "  inflating: magenta-master/magenta/reviews/assets/gan/image00.gif  "
          ],
          "name": "stdout"
        },
        {
          "output_type": "stream",
          "text": [
            "\r\n",
            "  inflating: magenta-master/magenta/reviews/assets/gan/image01.png  \r\n",
            "  inflating: magenta-master/magenta/reviews/assets/gan/image02.png  \r\n",
            "  inflating: magenta-master/magenta/reviews/assets/gan/image03.png  \r\n",
            "  inflating: magenta-master/magenta/reviews/assets/gan/image04.png  \r\n",
            "  inflating: magenta-master/magenta/reviews/assets/gan/image05.png  \r\n",
            "  inflating: magenta-master/magenta/reviews/assets/gan/image06.png  \r\n",
            "  inflating: magenta-master/magenta/reviews/assets/gan/image07.png  \r\n",
            "  inflating: magenta-master/magenta/reviews/assets/gan/image08.png  \r\n",
            "  inflating: magenta-master/magenta/reviews/assets/gan/image09.png  \r\n",
            "  inflating: magenta-master/magenta/reviews/assets/gan/image10.png  \r\n",
            "  inflating: magenta-master/magenta/reviews/assets/gan/image11.png  \r\n",
            "  inflating: magenta-master/magenta/reviews/assets/gan/image12.png  \r\n",
            "  inflating: magenta-master/magenta/reviews/assets/gan/image13.png  \r\n",
            "  inflating: magenta-master/magenta/reviews/assets/gan/image14.png  \n",
            "  inflating: magenta-master/magenta/reviews/assets/generation.gif  \n",
            "  inflating: magenta-master/magenta/reviews/assets/get_bias.png  \n",
            "  inflating: magenta-master/magenta/reviews/assets/get_hidden.png  \n",
            "  inflating: magenta-master/magenta/reviews/assets/gibbs.png  \n",
            "  inflating: magenta-master/magenta/reviews/assets/grad_loss.png  \n",
            "  inflating: magenta-master/magenta/reviews/assets/mnist_generation.png  \n",
            "  inflating: magenta-master/magenta/reviews/assets/pixelrnn_figure6.png  \n",
            "  inflating: magenta-master/magenta/reviews/assets/pixelrnn_full_context.png  \n",
            "  inflating: magenta-master/magenta/reviews/assets/pixelrnn_masks_A.png  \n",
            "  inflating: magenta-master/magenta/reviews/assets/pixelrnn_masks_B.png  \n",
            "  inflating: magenta-master/magenta/reviews/assets/pixelrnn_masks_highlevel.png  \n",
            "  inflating: magenta-master/magenta/reviews/assets/rnnrbm_color.png  \n",
            "  inflating: magenta-master/magenta/reviews/assets/rnnrbm_figure.png  \n",
            "  inflating: magenta-master/magenta/reviews/assets/svhn_generation.png  \n",
            "  inflating: magenta-master/magenta/reviews/assets/tubingen-starry-night.jpg  \n",
            "  inflating: magenta-master/magenta/reviews/draw.md  \n",
            "  inflating: magenta-master/magenta/reviews/pixelrnn.md  \n",
            "  inflating: magenta-master/magenta/reviews/rnnrbm.md  \n",
            "  inflating: magenta-master/magenta/reviews/styletransfer.md  \n",
            "  inflating: magenta-master/magenta/reviews/summary_generation_sequences.md  \n",
            "   creating: magenta-master/magenta/scripts/\n",
            "  inflating: magenta-master/magenta/scripts/BUILD  \n",
            "  inflating: magenta-master/magenta/scripts/README.md  \n",
            "  inflating: magenta-master/magenta/scripts/abc_compare.py  \n",
            "  inflating: magenta-master/magenta/scripts/convert_dir_to_note_sequences.py  \n",
            "  inflating: magenta-master/magenta/scripts/convert_dir_to_note_sequences_test.py  \n",
            "  inflating: magenta-master/magenta/scripts/unpack_bundle.py  \n",
            "   creating: magenta-master/magenta/testdata/\n",
            "  inflating: magenta-master/magenta/testdata/BUILD  \n",
            "  inflating: magenta-master/magenta/testdata/example.mid  \n",
            "  inflating: magenta-master/magenta/testdata/example_complex.mid  \n",
            "  inflating: magenta-master/magenta/testdata/example_event_order.mid  \n",
            "  inflating: magenta-master/magenta/testdata/example_is_drum.mid  \n",
            "  inflating: magenta-master/magenta/testdata/musicnet_example.npz  \n",
            "  inflating: magenta-master/magenta/testdata/notesequences.tfrecord  \n",
            "  inflating: magenta-master/magenta/testdata/tfrecord_iterator_test.tfrecord  \n",
            "   creating: magenta-master/magenta/tools/\n",
            "  inflating: magenta-master/magenta/tools/build.sh  \n",
            "   creating: magenta-master/magenta/tools/docker/\n",
            "  inflating: magenta-master/magenta/tools/docker/Dockerfile  \n",
            "  inflating: magenta-master/magenta/tools/magenta-install.sh  \n",
            "   creating: magenta-master/magenta/tools/pip/\n",
            "  inflating: magenta-master/magenta/tools/pip/BUILD  \n",
            "  inflating: magenta-master/magenta/tools/pip/README.md  \n",
            "  inflating: magenta-master/magenta/tools/pip/build_pip_package.sh  \n",
            "  inflating: magenta-master/magenta/tools/pip/setup.py  \n",
            "  inflating: magenta-master/magenta/version.py  \n",
            "  inflating: magenta-master/mido.BUILD  \n",
            "  inflating: magenta-master/pretty_midi.BUILD  \n",
            "  inflating: magenta-master/pythonfutures.BUILD  \n",
            "  inflating: magenta-master/six.BUILD  \n",
            "   creating: magenta-master/tools/\n",
            "  inflating: magenta-master/tools/bazel.rc  \n",
            "   creating: magenta-master/util/\n",
            "   creating: magenta-master/util/python/\n",
            "  inflating: magenta-master/util/python/BUILD  \n"
          ],
          "name": "stdout"
        }
      ]
    },
    {
      "metadata": {
        "id": "sBLjq7MbHgP3",
        "colab_type": "code",
        "colab": {
          "base_uri": "https://localhost:8080/",
          "height": 34
        },
        "outputId": "531067a5-5ddf-45f5-840f-22aa5f2e1bf2"
      },
      "cell_type": "code",
      "source": [
        "!ls"
      ],
      "execution_count": 0,
      "outputs": [
        {
          "output_type": "stream",
          "text": [
            "datalab  magenta-master  magenta.zip  master.zip\r\n"
          ],
          "name": "stdout"
        }
      ]
    },
    {
      "metadata": {
        "id": "tdm4dcsRH5qK",
        "colab_type": "code",
        "colab": {}
      },
      "cell_type": "code",
      "source": [
        "# get rid of the ZIP\n",
        "!rm master.zip"
      ],
      "execution_count": 0,
      "outputs": []
    },
    {
      "metadata": {
        "id": "qJ1gecVyVBTI",
        "colab_type": "code",
        "colab": {}
      },
      "cell_type": "code",
      "source": [
        "from google.colab import files"
      ],
      "execution_count": 0,
      "outputs": []
    },
    {
      "metadata": {
        "id": "FlID0NobVE5q",
        "colab_type": "code",
        "colab": {
          "resources": {
            "http://localhost:8080/nbextensions/google.colab/files.js": {
              "data": "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",
              "ok": true,
              "headers": [
                [
                  "content-type",
                  "application/javascript"
                ]
              ],
              "status": 200,
              "status_text": ""
            }
          },
          "base_uri": "https://localhost:8080/",
          "height": 563
        },
        "outputId": "ca10c63c-de55-41eb-8373-ddd5cdd47341"
      },
      "cell_type": "code",
      "source": [
        "files.upload()"
      ],
      "execution_count": 0,
      "outputs": [
        {
          "output_type": "display_data",
          "data": {
            "text/html": [
              "\n",
              "     <input type=\"file\" id=\"files-31c4af83-93b5-48ab-821e-6192e649be66\" name=\"files[]\" multiple disabled />\n",
              "     <output id=\"result-31c4af83-93b5-48ab-821e-6192e649be66\">\n",
              "      Upload widget is only available when the cell has been executed in the\n",
              "      current browser session. Please rerun this cell to enable.\n",
              "      </output>\n",
              "      <script src=\"/nbextensions/google.colab/files.js\"</script> "
            ],
            "text/plain": [
              "<IPython.core.display.HTML object>"
            ]
          },
          "metadata": {
            "tags": []
          }
        },
        {
          "output_type": "error",
          "ename": "KeyboardInterrupt",
          "evalue": "ignored",
          "traceback": [
            "\u001b[0;31m---------------------------------------------------------------------------\u001b[0m",
            "\u001b[0;31mKeyboardInterrupt\u001b[0m                         Traceback (most recent call last)",
            "\u001b[0;32m<ipython-input-50-63b259460c61>\u001b[0m in \u001b[0;36m<module>\u001b[0;34m()\u001b[0m\n\u001b[0;32m----> 1\u001b[0;31m \u001b[0mfiles\u001b[0m\u001b[0;34m.\u001b[0m\u001b[0mupload\u001b[0m\u001b[0;34m(\u001b[0m\u001b[0;34m)\u001b[0m\u001b[0;34m\u001b[0m\u001b[0m\n\u001b[0m",
            "\u001b[0;32m/usr/local/lib/python3.6/dist-packages/google/colab/files.py\u001b[0m in \u001b[0;36mupload\u001b[0;34m()\u001b[0m\n\u001b[1;32m     59\u001b[0m   result = output.eval_js(\n\u001b[1;32m     60\u001b[0m       'google.colab._files._uploadFiles(\"{input_id}\", \"{output_id}\")'.format(\n\u001b[0;32m---> 61\u001b[0;31m           input_id=input_id, output_id=output_id))\n\u001b[0m\u001b[1;32m     62\u001b[0m   \u001b[0mfiles\u001b[0m \u001b[0;34m=\u001b[0m \u001b[0mcollections\u001b[0m\u001b[0;34m.\u001b[0m\u001b[0mdefaultdict\u001b[0m\u001b[0;34m(\u001b[0m\u001b[0msix\u001b[0m\u001b[0;34m.\u001b[0m\u001b[0mbinary_type\u001b[0m\u001b[0;34m)\u001b[0m\u001b[0;34m\u001b[0m\u001b[0m\n\u001b[1;32m     63\u001b[0m \u001b[0;34m\u001b[0m\u001b[0m\n",
            "\u001b[0;32m/usr/local/lib/python3.6/dist-packages/google/colab/output/_js.py\u001b[0m in \u001b[0;36meval_js\u001b[0;34m(script, ignore_result)\u001b[0m\n\u001b[1;32m     37\u001b[0m   \u001b[0;32mif\u001b[0m \u001b[0mignore_result\u001b[0m\u001b[0;34m:\u001b[0m\u001b[0;34m\u001b[0m\u001b[0m\n\u001b[1;32m     38\u001b[0m     \u001b[0;32mreturn\u001b[0m\u001b[0;34m\u001b[0m\u001b[0m\n\u001b[0;32m---> 39\u001b[0;31m   \u001b[0;32mreturn\u001b[0m \u001b[0m_message\u001b[0m\u001b[0;34m.\u001b[0m\u001b[0mread_reply_from_input\u001b[0m\u001b[0;34m(\u001b[0m\u001b[0mrequest_id\u001b[0m\u001b[0;34m)\u001b[0m\u001b[0;34m\u001b[0m\u001b[0m\n\u001b[0m\u001b[1;32m     40\u001b[0m \u001b[0;34m\u001b[0m\u001b[0m\n\u001b[1;32m     41\u001b[0m \u001b[0;34m\u001b[0m\u001b[0m\n",
            "\u001b[0;32m/usr/local/lib/python3.6/dist-packages/google/colab/_message.py\u001b[0m in \u001b[0;36mread_reply_from_input\u001b[0;34m(message_id, timeout_sec)\u001b[0m\n\u001b[1;32m     79\u001b[0m     \u001b[0mreply\u001b[0m \u001b[0;34m=\u001b[0m \u001b[0m_read_next_input_message\u001b[0m\u001b[0;34m(\u001b[0m\u001b[0;34m)\u001b[0m\u001b[0;34m\u001b[0m\u001b[0m\n\u001b[1;32m     80\u001b[0m     \u001b[0;32mif\u001b[0m \u001b[0mreply\u001b[0m \u001b[0;34m==\u001b[0m \u001b[0m_NOT_READY\u001b[0m \u001b[0;32mor\u001b[0m \u001b[0;32mnot\u001b[0m \u001b[0misinstance\u001b[0m\u001b[0;34m(\u001b[0m\u001b[0mreply\u001b[0m\u001b[0;34m,\u001b[0m \u001b[0mdict\u001b[0m\u001b[0;34m)\u001b[0m\u001b[0;34m:\u001b[0m\u001b[0;34m\u001b[0m\u001b[0m\n\u001b[0;32m---> 81\u001b[0;31m       \u001b[0mtime\u001b[0m\u001b[0;34m.\u001b[0m\u001b[0msleep\u001b[0m\u001b[0;34m(\u001b[0m\u001b[0;36m0.025\u001b[0m\u001b[0;34m)\u001b[0m\u001b[0;34m\u001b[0m\u001b[0m\n\u001b[0m\u001b[1;32m     82\u001b[0m       \u001b[0;32mcontinue\u001b[0m\u001b[0;34m\u001b[0m\u001b[0m\n\u001b[1;32m     83\u001b[0m     if (reply.get('type') == 'colab_reply' and\n",
            "\u001b[0;31mKeyboardInterrupt\u001b[0m: "
          ]
        }
      ]
    },
    {
      "metadata": {
        "id": "3iErEL_vVIbS",
        "colab_type": "code",
        "colab": {
          "base_uri": "https://localhost:8080/",
          "height": 527
        },
        "outputId": "ea60ad29-d4ef-476f-ca76-c8cf88cf1647"
      },
      "cell_type": "code",
      "source": [
        "files.download()"
      ],
      "execution_count": 0,
      "outputs": [
        {
          "output_type": "error",
          "ename": "MessageError",
          "evalue": "ignored",
          "traceback": [
            "\u001b[0;31m---------------------------------------------------------------------------\u001b[0m",
            "\u001b[0;31mMessageError\u001b[0m                              Traceback (most recent call last)",
            "\u001b[0;32m<ipython-input-51-be8025739ee8>\u001b[0m in \u001b[0;36m<module>\u001b[0;34m()\u001b[0m\n\u001b[0;32m----> 1\u001b[0;31m \u001b[0mfiles\u001b[0m\u001b[0;34m.\u001b[0m\u001b[0mdownload\u001b[0m\u001b[0;34m(\u001b[0m\u001b[0;34m'mnist'\u001b[0m\u001b[0;34m)\u001b[0m\u001b[0;34m\u001b[0m\u001b[0m\n\u001b[0m",
            "\u001b[0;32m/usr/local/lib/python3.6/dist-packages/google/colab/files.py\u001b[0m in \u001b[0;36mdownload\u001b[0;34m(filename)\u001b[0m\n\u001b[1;32m    135\u001b[0m       \u001b[0;34m'port'\u001b[0m\u001b[0;34m:\u001b[0m \u001b[0mport\u001b[0m\u001b[0;34m,\u001b[0m\u001b[0;34m\u001b[0m\u001b[0m\n\u001b[1;32m    136\u001b[0m       \u001b[0;34m'path'\u001b[0m\u001b[0;34m:\u001b[0m \u001b[0mos\u001b[0m\u001b[0;34m.\u001b[0m\u001b[0mpath\u001b[0m\u001b[0;34m.\u001b[0m\u001b[0mabspath\u001b[0m\u001b[0;34m(\u001b[0m\u001b[0mfilename\u001b[0m\u001b[0;34m)\u001b[0m\u001b[0;34m,\u001b[0m\u001b[0;34m\u001b[0m\u001b[0m\n\u001b[0;32m--> 137\u001b[0;31m       \u001b[0;34m'name'\u001b[0m\u001b[0;34m:\u001b[0m \u001b[0mos\u001b[0m\u001b[0;34m.\u001b[0m\u001b[0mpath\u001b[0m\u001b[0;34m.\u001b[0m\u001b[0mbasename\u001b[0m\u001b[0;34m(\u001b[0m\u001b[0mfilename\u001b[0m\u001b[0;34m)\u001b[0m\u001b[0;34m,\u001b[0m\u001b[0;34m\u001b[0m\u001b[0m\n\u001b[0m\u001b[1;32m    138\u001b[0m   })\n",
            "\u001b[0;32m/usr/local/lib/python3.6/dist-packages/google/colab/output/_js.py\u001b[0m in \u001b[0;36meval_js\u001b[0;34m(script, ignore_result)\u001b[0m\n\u001b[1;32m     37\u001b[0m   \u001b[0;32mif\u001b[0m \u001b[0mignore_result\u001b[0m\u001b[0;34m:\u001b[0m\u001b[0;34m\u001b[0m\u001b[0m\n\u001b[1;32m     38\u001b[0m     \u001b[0;32mreturn\u001b[0m\u001b[0;34m\u001b[0m\u001b[0m\n\u001b[0;32m---> 39\u001b[0;31m   \u001b[0;32mreturn\u001b[0m \u001b[0m_message\u001b[0m\u001b[0;34m.\u001b[0m\u001b[0mread_reply_from_input\u001b[0m\u001b[0;34m(\u001b[0m\u001b[0mrequest_id\u001b[0m\u001b[0;34m)\u001b[0m\u001b[0;34m\u001b[0m\u001b[0m\n\u001b[0m\u001b[1;32m     40\u001b[0m \u001b[0;34m\u001b[0m\u001b[0m\n\u001b[1;32m     41\u001b[0m \u001b[0;34m\u001b[0m\u001b[0m\n",
            "\u001b[0;32m/usr/local/lib/python3.6/dist-packages/google/colab/_message.py\u001b[0m in \u001b[0;36mread_reply_from_input\u001b[0;34m(message_id, timeout_sec)\u001b[0m\n\u001b[1;32m     84\u001b[0m         reply.get('colab_msg_id') == message_id):\n\u001b[1;32m     85\u001b[0m       \u001b[0;32mif\u001b[0m \u001b[0;34m'error'\u001b[0m \u001b[0;32min\u001b[0m \u001b[0mreply\u001b[0m\u001b[0;34m:\u001b[0m\u001b[0;34m\u001b[0m\u001b[0m\n\u001b[0;32m---> 86\u001b[0;31m         \u001b[0;32mraise\u001b[0m \u001b[0mMessageError\u001b[0m\u001b[0;34m(\u001b[0m\u001b[0mreply\u001b[0m\u001b[0;34m[\u001b[0m\u001b[0;34m'error'\u001b[0m\u001b[0;34m]\u001b[0m\u001b[0;34m)\u001b[0m\u001b[0;34m\u001b[0m\u001b[0m\n\u001b[0m\u001b[1;32m     87\u001b[0m       \u001b[0;32mreturn\u001b[0m \u001b[0mreply\u001b[0m\u001b[0;34m.\u001b[0m\u001b[0mget\u001b[0m\u001b[0;34m(\u001b[0m\u001b[0;34m'data'\u001b[0m\u001b[0;34m,\u001b[0m \u001b[0;32mNone\u001b[0m\u001b[0;34m)\u001b[0m\u001b[0;34m\u001b[0m\u001b[0m\n\u001b[1;32m     88\u001b[0m \u001b[0;34m\u001b[0m\u001b[0m\n",
            "\u001b[0;31mMessageError\u001b[0m: Error: Failed to download: "
          ]
        }
      ]
    },
    {
      "metadata": {
        "id": "MJAa47qXVSgQ",
        "colab_type": "code",
        "colab": {}
      },
      "cell_type": "code",
      "source": [
        ""
      ],
      "execution_count": 0,
      "outputs": []
    }
  ]
}